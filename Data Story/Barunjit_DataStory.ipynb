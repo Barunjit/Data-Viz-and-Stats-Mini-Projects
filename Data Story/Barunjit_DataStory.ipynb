{
 "cells": [
  {
   "cell_type": "markdown",
   "metadata": {},
   "source": [
    "## The Data Story"
   ]
  },
  {
   "cell_type": "markdown",
   "metadata": {},
   "source": [
    "<b> The question i am mtrying to answer here is that whether we can differentiate the group of people who default\n",
    "and the group of people who don't default with respect to some of the important variables that are part of the\n",
    "data set. </b>"
   ]
  },
  {
   "cell_type": "code",
   "execution_count": 1,
   "metadata": {},
   "outputs": [],
   "source": [
    "import pandas as pd\n",
    "import numpy as np\n",
    "import warnings"
   ]
  },
  {
   "cell_type": "code",
   "execution_count": 2,
   "metadata": {},
   "outputs": [],
   "source": [
    "warnings.filterwarnings(\"ignore\")"
   ]
  },
  {
   "cell_type": "code",
   "execution_count": 79,
   "metadata": {},
   "outputs": [],
   "source": [
    "## The column set out of which i am going to pick some interesting variables for analysis and visualization \n",
    "overtopcols = ['EXT_SOURCE_2',\n",
    " 'EXT_SOURCE_3',\n",
    " 'DAYS_BIRTH',\n",
    " 'DAYS_ID_PUBLISH',\n",
    " 'DAYS_REGISTRATION',\n",
    " 'INS_AMT_SUM',\n",
    " 'INS_DAYS_OVERDUE_MEAN',\n",
    " 'AMT_CREDIT_y',\n",
    " 'AMT_ANNUITY',\n",
    " 'DAYS_EMPLOYED',\n",
    " 'DAYS_LAST_PHONE_CHANGE',\n",
    " 'AMT_CREDIT_x',\n",
    " 'POS_CREDIT_TERM_MEAN',\n",
    " 'BRU_MEAN_AMT_CREDIT_SUM',\n",
    " 'HOUR_APPR_PROCESS_START_y',\n",
    " 'INS_DAYS_OVERDUE_MAX',\n",
    " 'AMT_INCOME_TOTAL',\n",
    " 'REGION_POPULATION_RELATIVE',\n",
    " 'AMT_GOODS_PRICE',\n",
    " 'INS_NUM_MAX',\n",
    " 'BRU_MAX_CRDT_SUM_DEBT',\n",
    " 'HOUR_APPR_PROCESS_START_x',\n",
    " 'BRU_MEAN_CLOSED_COUNT',\n",
    " 'BRU_MEAN_ACTIVE_COUNT',\n",
    " 'WEEKDAY_APPR_PROCESS_START_x',\n",
    " 'BRU_AMT_MAX_OVERDUE',\n",
    " 'WEEKDAY_APPR_PROCESS_START_y',\n",
    " 'OBS_30_CNT_SOCIAL_CIRCLE',\n",
    " 'PREV_CLT_REP_COUNT',\n",
    " 'AMT_REQ_CREDIT_BUREAU_YEAR']"
   ]
  },
  {
   "cell_type": "code",
   "execution_count": 4,
   "metadata": {},
   "outputs": [],
   "source": [
    "dfinal = pd.read_csv('dfinal.csv')"
   ]
  },
  {
   "cell_type": "code",
   "execution_count": 5,
   "metadata": {},
   "outputs": [],
   "source": [
    "overeda = dfinal[overtopcols]"
   ]
  },
  {
   "cell_type": "code",
   "execution_count": 6,
   "metadata": {},
   "outputs": [],
   "source": [
    "# Renaming the \"TARGET\" Column as \"DEFAULT\"\n",
    "overeda['default'] = dfinal['TARGET']"
   ]
  },
  {
   "cell_type": "code",
   "execution_count": 7,
   "metadata": {},
   "outputs": [
    {
     "data": {
      "text/html": [
       "<div>\n",
       "<style scoped>\n",
       "    .dataframe tbody tr th:only-of-type {\n",
       "        vertical-align: middle;\n",
       "    }\n",
       "\n",
       "    .dataframe tbody tr th {\n",
       "        vertical-align: top;\n",
       "    }\n",
       "\n",
       "    .dataframe thead th {\n",
       "        text-align: right;\n",
       "    }\n",
       "</style>\n",
       "<table border=\"1\" class=\"dataframe\">\n",
       "  <thead>\n",
       "    <tr style=\"text-align: right;\">\n",
       "      <th></th>\n",
       "      <th>EXT_SOURCE_2</th>\n",
       "      <th>EXT_SOURCE_3</th>\n",
       "      <th>DAYS_BIRTH</th>\n",
       "      <th>DAYS_ID_PUBLISH</th>\n",
       "      <th>DAYS_REGISTRATION</th>\n",
       "      <th>INS_AMT_SUM</th>\n",
       "      <th>INS_DAYS_OVERDUE_MEAN</th>\n",
       "      <th>AMT_CREDIT_y</th>\n",
       "      <th>AMT_ANNUITY</th>\n",
       "      <th>DAYS_EMPLOYED</th>\n",
       "      <th>...</th>\n",
       "      <th>HOUR_APPR_PROCESS_START_x</th>\n",
       "      <th>BRU_MEAN_CLOSED_COUNT</th>\n",
       "      <th>BRU_MEAN_ACTIVE_COUNT</th>\n",
       "      <th>WEEKDAY_APPR_PROCESS_START_x</th>\n",
       "      <th>BRU_AMT_MAX_OVERDUE</th>\n",
       "      <th>WEEKDAY_APPR_PROCESS_START_y</th>\n",
       "      <th>OBS_30_CNT_SOCIAL_CIRCLE</th>\n",
       "      <th>PREV_CLT_REP_COUNT</th>\n",
       "      <th>AMT_REQ_CREDIT_BUREAU_YEAR</th>\n",
       "      <th>default</th>\n",
       "    </tr>\n",
       "  </thead>\n",
       "  <tbody>\n",
       "    <tr>\n",
       "      <td>0</td>\n",
       "      <td>0.262949</td>\n",
       "      <td>0.139376</td>\n",
       "      <td>-9461</td>\n",
       "      <td>-2120</td>\n",
       "      <td>-3648.0</td>\n",
       "      <td>219625.695</td>\n",
       "      <td>20.421053</td>\n",
       "      <td>179055.00</td>\n",
       "      <td>24700.5</td>\n",
       "      <td>-637</td>\n",
       "      <td>...</td>\n",
       "      <td>10</td>\n",
       "      <td>6.0</td>\n",
       "      <td>2.0</td>\n",
       "      <td>WEDNESDAY</td>\n",
       "      <td>5043.645</td>\n",
       "      <td>6.0</td>\n",
       "      <td>2.0</td>\n",
       "      <td>0.0</td>\n",
       "      <td>1.0</td>\n",
       "      <td>1</td>\n",
       "    </tr>\n",
       "    <tr>\n",
       "      <td>1</td>\n",
       "      <td>0.622246</td>\n",
       "      <td>NaN</td>\n",
       "      <td>-16765</td>\n",
       "      <td>-291</td>\n",
       "      <td>-1186.0</td>\n",
       "      <td>1618864.650</td>\n",
       "      <td>7.160000</td>\n",
       "      <td>484191.00</td>\n",
       "      <td>35698.5</td>\n",
       "      <td>-1188</td>\n",
       "      <td>...</td>\n",
       "      <td>11</td>\n",
       "      <td>3.0</td>\n",
       "      <td>1.0</td>\n",
       "      <td>MONDAY</td>\n",
       "      <td>0.000</td>\n",
       "      <td>4.0</td>\n",
       "      <td>1.0</td>\n",
       "      <td>1.0</td>\n",
       "      <td>0.0</td>\n",
       "      <td>0</td>\n",
       "    </tr>\n",
       "    <tr>\n",
       "      <td>2</td>\n",
       "      <td>0.555912</td>\n",
       "      <td>0.729567</td>\n",
       "      <td>-19046</td>\n",
       "      <td>-2531</td>\n",
       "      <td>-4260.0</td>\n",
       "      <td>21288.465</td>\n",
       "      <td>7.666667</td>\n",
       "      <td>20106.00</td>\n",
       "      <td>6750.0</td>\n",
       "      <td>-225</td>\n",
       "      <td>...</td>\n",
       "      <td>9</td>\n",
       "      <td>2.0</td>\n",
       "      <td>0.0</td>\n",
       "      <td>MONDAY</td>\n",
       "      <td>0.000</td>\n",
       "      <td>5.0</td>\n",
       "      <td>0.0</td>\n",
       "      <td>0.0</td>\n",
       "      <td>0.0</td>\n",
       "      <td>0</td>\n",
       "    </tr>\n",
       "    <tr>\n",
       "      <td>3</td>\n",
       "      <td>0.650442</td>\n",
       "      <td>NaN</td>\n",
       "      <td>-19005</td>\n",
       "      <td>-2437</td>\n",
       "      <td>-9833.0</td>\n",
       "      <td>1007153.415</td>\n",
       "      <td>19.375000</td>\n",
       "      <td>291695.50</td>\n",
       "      <td>29686.5</td>\n",
       "      <td>-3039</td>\n",
       "      <td>...</td>\n",
       "      <td>17</td>\n",
       "      <td>NaN</td>\n",
       "      <td>NaN</td>\n",
       "      <td>WEDNESDAY</td>\n",
       "      <td>NaN</td>\n",
       "      <td>4.0</td>\n",
       "      <td>2.0</td>\n",
       "      <td>8.0</td>\n",
       "      <td>NaN</td>\n",
       "      <td>0</td>\n",
       "    </tr>\n",
       "    <tr>\n",
       "      <td>4</td>\n",
       "      <td>0.322738</td>\n",
       "      <td>NaN</td>\n",
       "      <td>-19932</td>\n",
       "      <td>-3458</td>\n",
       "      <td>-4311.0</td>\n",
       "      <td>835985.340</td>\n",
       "      <td>3.636364</td>\n",
       "      <td>166638.75</td>\n",
       "      <td>21865.5</td>\n",
       "      <td>-3038</td>\n",
       "      <td>...</td>\n",
       "      <td>11</td>\n",
       "      <td>1.0</td>\n",
       "      <td>0.0</td>\n",
       "      <td>THURSDAY</td>\n",
       "      <td>0.000</td>\n",
       "      <td>3.0</td>\n",
       "      <td>0.0</td>\n",
       "      <td>5.0</td>\n",
       "      <td>0.0</td>\n",
       "      <td>0</td>\n",
       "    </tr>\n",
       "  </tbody>\n",
       "</table>\n",
       "<p>5 rows × 31 columns</p>\n",
       "</div>"
      ],
      "text/plain": [
       "   EXT_SOURCE_2  EXT_SOURCE_3  DAYS_BIRTH  DAYS_ID_PUBLISH  DAYS_REGISTRATION  \\\n",
       "0      0.262949      0.139376       -9461            -2120            -3648.0   \n",
       "1      0.622246           NaN      -16765             -291            -1186.0   \n",
       "2      0.555912      0.729567      -19046            -2531            -4260.0   \n",
       "3      0.650442           NaN      -19005            -2437            -9833.0   \n",
       "4      0.322738           NaN      -19932            -3458            -4311.0   \n",
       "\n",
       "   INS_AMT_SUM  INS_DAYS_OVERDUE_MEAN  AMT_CREDIT_y  AMT_ANNUITY  \\\n",
       "0   219625.695              20.421053     179055.00      24700.5   \n",
       "1  1618864.650               7.160000     484191.00      35698.5   \n",
       "2    21288.465               7.666667      20106.00       6750.0   \n",
       "3  1007153.415              19.375000     291695.50      29686.5   \n",
       "4   835985.340               3.636364     166638.75      21865.5   \n",
       "\n",
       "   DAYS_EMPLOYED  ...  HOUR_APPR_PROCESS_START_x  BRU_MEAN_CLOSED_COUNT  \\\n",
       "0           -637  ...                         10                    6.0   \n",
       "1          -1188  ...                         11                    3.0   \n",
       "2           -225  ...                          9                    2.0   \n",
       "3          -3039  ...                         17                    NaN   \n",
       "4          -3038  ...                         11                    1.0   \n",
       "\n",
       "   BRU_MEAN_ACTIVE_COUNT  WEEKDAY_APPR_PROCESS_START_x  BRU_AMT_MAX_OVERDUE  \\\n",
       "0                    2.0                     WEDNESDAY             5043.645   \n",
       "1                    1.0                        MONDAY                0.000   \n",
       "2                    0.0                        MONDAY                0.000   \n",
       "3                    NaN                     WEDNESDAY                  NaN   \n",
       "4                    0.0                      THURSDAY                0.000   \n",
       "\n",
       "   WEEKDAY_APPR_PROCESS_START_y  OBS_30_CNT_SOCIAL_CIRCLE  PREV_CLT_REP_COUNT  \\\n",
       "0                           6.0                       2.0                 0.0   \n",
       "1                           4.0                       1.0                 1.0   \n",
       "2                           5.0                       0.0                 0.0   \n",
       "3                           4.0                       2.0                 8.0   \n",
       "4                           3.0                       0.0                 5.0   \n",
       "\n",
       "   AMT_REQ_CREDIT_BUREAU_YEAR  default  \n",
       "0                         1.0        1  \n",
       "1                         0.0        0  \n",
       "2                         0.0        0  \n",
       "3                         NaN        0  \n",
       "4                         0.0        0  \n",
       "\n",
       "[5 rows x 31 columns]"
      ]
     },
     "execution_count": 7,
     "metadata": {},
     "output_type": "execute_result"
    }
   ],
   "source": [
    "overeda.head()"
   ]
  },
  {
   "cell_type": "code",
   "execution_count": 8,
   "metadata": {},
   "outputs": [
    {
     "data": {
      "text/plain": [
       "Index(['EXT_SOURCE_2', 'EXT_SOURCE_3', 'DAYS_BIRTH', 'DAYS_ID_PUBLISH',\n",
       "       'DAYS_REGISTRATION', 'INS_AMT_SUM', 'INS_DAYS_OVERDUE_MEAN',\n",
       "       'AMT_CREDIT_y', 'AMT_ANNUITY', 'DAYS_EMPLOYED',\n",
       "       'DAYS_LAST_PHONE_CHANGE', 'AMT_CREDIT_x', 'POS_CREDIT_TERM_MEAN',\n",
       "       'BRU_MEAN_AMT_CREDIT_SUM', 'HOUR_APPR_PROCESS_START_y',\n",
       "       'INS_DAYS_OVERDUE_MAX', 'AMT_INCOME_TOTAL',\n",
       "       'REGION_POPULATION_RELATIVE', 'AMT_GOODS_PRICE', 'INS_NUM_MAX',\n",
       "       'BRU_MAX_CRDT_SUM_DEBT', 'HOUR_APPR_PROCESS_START_x',\n",
       "       'BRU_MEAN_CLOSED_COUNT', 'BRU_MEAN_ACTIVE_COUNT',\n",
       "       'WEEKDAY_APPR_PROCESS_START_x', 'BRU_AMT_MAX_OVERDUE',\n",
       "       'WEEKDAY_APPR_PROCESS_START_y', 'OBS_30_CNT_SOCIAL_CIRCLE',\n",
       "       'PREV_CLT_REP_COUNT', 'AMT_REQ_CREDIT_BUREAU_YEAR', 'default'],\n",
       "      dtype='object')"
      ]
     },
     "execution_count": 8,
     "metadata": {},
     "output_type": "execute_result"
    }
   ],
   "source": [
    "overeda.columns"
   ]
  },
  {
   "cell_type": "code",
   "execution_count": 9,
   "metadata": {},
   "outputs": [],
   "source": [
    "# Dropping the columns with suffix y\n",
    "overeda.drop(columns = ['AMT_CREDIT_y','HOUR_APPR_PROCESS_START_y','WEEKDAY_APPR_PROCESS_START_y'], inplace = True)"
   ]
  },
  {
   "cell_type": "code",
   "execution_count": 10,
   "metadata": {},
   "outputs": [
    {
     "data": {
      "text/plain": [
       "Index(['EXT_SOURCE_2', 'EXT_SOURCE_3', 'DAYS_BIRTH', 'DAYS_ID_PUBLISH',\n",
       "       'DAYS_REGISTRATION', 'INS_AMT_SUM', 'INS_DAYS_OVERDUE_MEAN',\n",
       "       'AMT_ANNUITY', 'DAYS_EMPLOYED', 'DAYS_LAST_PHONE_CHANGE',\n",
       "       'AMT_CREDIT_x', 'POS_CREDIT_TERM_MEAN', 'BRU_MEAN_AMT_CREDIT_SUM',\n",
       "       'INS_DAYS_OVERDUE_MAX', 'AMT_INCOME_TOTAL',\n",
       "       'REGION_POPULATION_RELATIVE', 'AMT_GOODS_PRICE', 'INS_NUM_MAX',\n",
       "       'BRU_MAX_CRDT_SUM_DEBT', 'HOUR_APPR_PROCESS_START_x',\n",
       "       'BRU_MEAN_CLOSED_COUNT', 'BRU_MEAN_ACTIVE_COUNT',\n",
       "       'WEEKDAY_APPR_PROCESS_START_x', 'BRU_AMT_MAX_OVERDUE',\n",
       "       'OBS_30_CNT_SOCIAL_CIRCLE', 'PREV_CLT_REP_COUNT',\n",
       "       'AMT_REQ_CREDIT_BUREAU_YEAR', 'default'],\n",
       "      dtype='object')"
      ]
     },
     "execution_count": 10,
     "metadata": {},
     "output_type": "execute_result"
    }
   ],
   "source": [
    "overeda.columns"
   ]
  },
  {
   "cell_type": "code",
   "execution_count": 11,
   "metadata": {},
   "outputs": [],
   "source": [
    "# Renaming some of the columns to remove the suffix x\n",
    "overeda.columns = [y[0:len(y)-2] if (y[len(y)- 2] == '_') & (y[len(y)- 1] == 'x') else y for y in overeda.columns]"
   ]
  },
  {
   "cell_type": "code",
   "execution_count": 24,
   "metadata": {},
   "outputs": [
    {
     "data": {
      "text/plain": [
       "Index(['EXT_SOURCE_2', 'EXT_SOURCE_3', 'DAYS_BIRTH', 'DAYS_ID_PUBLISH',\n",
       "       'DAYS_REGISTRATION', 'INS_AMT_SUM', 'INS_DAYS_OVERDUE_MEAN',\n",
       "       'AMT_ANNUITY', 'DAYS_EMPLOYED', 'DAYS_LAST_PHONE_CHANGE', 'AMT_CREDIT',\n",
       "       'POS_CREDIT_TERM_MEAN', 'BRU_MEAN_AMT_CREDIT_SUM',\n",
       "       'INS_DAYS_OVERDUE_MAX', 'AMT_INCOME_TOTAL',\n",
       "       'REGION_POPULATION_RELATIVE', 'AMT_GOODS_PRICE', 'INS_NUM_MAX',\n",
       "       'BRU_MAX_CRDT_SUM_DEBT', 'HOUR_APPR_PROCESS_START',\n",
       "       'BRU_MEAN_CLOSED_COUNT', 'BRU_MEAN_ACTIVE_COUNT',\n",
       "       'WEEKDAY_APPR_PROCESS_START', 'BRU_AMT_MAX_OVERDUE',\n",
       "       'OBS_30_CNT_SOCIAL_CIRCLE', 'PREV_CLT_REP_COUNT',\n",
       "       'AMT_REQ_CREDIT_BUREAU_YEAR', 'default'],\n",
       "      dtype='object')"
      ]
     },
     "execution_count": 24,
     "metadata": {},
     "output_type": "execute_result"
    }
   ],
   "source": [
    "overeda.columns"
   ]
  },
  {
   "cell_type": "code",
   "execution_count": 13,
   "metadata": {},
   "outputs": [],
   "source": [
    "pd.options.display.max_columns = None"
   ]
  },
  {
   "cell_type": "code",
   "execution_count": 14,
   "metadata": {},
   "outputs": [
    {
     "data": {
      "text/html": [
       "<div>\n",
       "<style scoped>\n",
       "    .dataframe tbody tr th:only-of-type {\n",
       "        vertical-align: middle;\n",
       "    }\n",
       "\n",
       "    .dataframe tbody tr th {\n",
       "        vertical-align: top;\n",
       "    }\n",
       "\n",
       "    .dataframe thead th {\n",
       "        text-align: right;\n",
       "    }\n",
       "</style>\n",
       "<table border=\"1\" class=\"dataframe\">\n",
       "  <thead>\n",
       "    <tr style=\"text-align: right;\">\n",
       "      <th></th>\n",
       "      <th>EXT_SOURCE_2</th>\n",
       "      <th>EXT_SOURCE_3</th>\n",
       "      <th>DAYS_BIRTH</th>\n",
       "      <th>DAYS_ID_PUBLISH</th>\n",
       "      <th>DAYS_REGISTRATION</th>\n",
       "      <th>INS_AMT_SUM</th>\n",
       "      <th>INS_DAYS_OVERDUE_MEAN</th>\n",
       "      <th>AMT_ANNUITY</th>\n",
       "      <th>DAYS_EMPLOYED</th>\n",
       "      <th>DAYS_LAST_PHONE_CHANGE</th>\n",
       "      <th>AMT_CREDIT</th>\n",
       "      <th>POS_CREDIT_TERM_MEAN</th>\n",
       "      <th>BRU_MEAN_AMT_CREDIT_SUM</th>\n",
       "      <th>INS_DAYS_OVERDUE_MAX</th>\n",
       "      <th>AMT_INCOME_TOTAL</th>\n",
       "      <th>REGION_POPULATION_RELATIVE</th>\n",
       "      <th>AMT_GOODS_PRICE</th>\n",
       "      <th>INS_NUM_MAX</th>\n",
       "      <th>BRU_MAX_CRDT_SUM_DEBT</th>\n",
       "      <th>HOUR_APPR_PROCESS_START</th>\n",
       "      <th>BRU_MEAN_CLOSED_COUNT</th>\n",
       "      <th>BRU_MEAN_ACTIVE_COUNT</th>\n",
       "      <th>WEEKDAY_APPR_PROCESS_START</th>\n",
       "      <th>BRU_AMT_MAX_OVERDUE</th>\n",
       "      <th>OBS_30_CNT_SOCIAL_CIRCLE</th>\n",
       "      <th>PREV_CLT_REP_COUNT</th>\n",
       "      <th>AMT_REQ_CREDIT_BUREAU_YEAR</th>\n",
       "      <th>default</th>\n",
       "    </tr>\n",
       "  </thead>\n",
       "  <tbody>\n",
       "    <tr>\n",
       "      <td>0</td>\n",
       "      <td>0.262949</td>\n",
       "      <td>0.139376</td>\n",
       "      <td>-9461</td>\n",
       "      <td>-2120</td>\n",
       "      <td>-3648.0</td>\n",
       "      <td>219625.695</td>\n",
       "      <td>20.421053</td>\n",
       "      <td>24700.5</td>\n",
       "      <td>-637</td>\n",
       "      <td>-1134.0</td>\n",
       "      <td>406597.5</td>\n",
       "      <td>24.000000</td>\n",
       "      <td>108131.945625</td>\n",
       "      <td>31.0</td>\n",
       "      <td>202500.0</td>\n",
       "      <td>0.018801</td>\n",
       "      <td>351000.0</td>\n",
       "      <td>19.0</td>\n",
       "      <td>245781.0</td>\n",
       "      <td>10</td>\n",
       "      <td>6.0</td>\n",
       "      <td>2.0</td>\n",
       "      <td>WEDNESDAY</td>\n",
       "      <td>5043.645</td>\n",
       "      <td>2.0</td>\n",
       "      <td>0.0</td>\n",
       "      <td>1.0</td>\n",
       "      <td>1</td>\n",
       "    </tr>\n",
       "    <tr>\n",
       "      <td>1</td>\n",
       "      <td>0.622246</td>\n",
       "      <td>NaN</td>\n",
       "      <td>-16765</td>\n",
       "      <td>-291</td>\n",
       "      <td>-1186.0</td>\n",
       "      <td>1618864.650</td>\n",
       "      <td>7.160000</td>\n",
       "      <td>35698.5</td>\n",
       "      <td>-1188</td>\n",
       "      <td>-828.0</td>\n",
       "      <td>1293502.5</td>\n",
       "      <td>10.107143</td>\n",
       "      <td>254350.125000</td>\n",
       "      <td>14.0</td>\n",
       "      <td>270000.0</td>\n",
       "      <td>0.003541</td>\n",
       "      <td>1129500.0</td>\n",
       "      <td>12.0</td>\n",
       "      <td>0.0</td>\n",
       "      <td>11</td>\n",
       "      <td>3.0</td>\n",
       "      <td>1.0</td>\n",
       "      <td>MONDAY</td>\n",
       "      <td>0.000</td>\n",
       "      <td>1.0</td>\n",
       "      <td>1.0</td>\n",
       "      <td>0.0</td>\n",
       "      <td>0</td>\n",
       "    </tr>\n",
       "    <tr>\n",
       "      <td>2</td>\n",
       "      <td>0.555912</td>\n",
       "      <td>0.729567</td>\n",
       "      <td>-19046</td>\n",
       "      <td>-2531</td>\n",
       "      <td>-4260.0</td>\n",
       "      <td>21288.465</td>\n",
       "      <td>7.666667</td>\n",
       "      <td>6750.0</td>\n",
       "      <td>-225</td>\n",
       "      <td>-815.0</td>\n",
       "      <td>135000.0</td>\n",
       "      <td>3.750000</td>\n",
       "      <td>94518.900000</td>\n",
       "      <td>11.0</td>\n",
       "      <td>67500.0</td>\n",
       "      <td>0.010032</td>\n",
       "      <td>135000.0</td>\n",
       "      <td>3.0</td>\n",
       "      <td>0.0</td>\n",
       "      <td>9</td>\n",
       "      <td>2.0</td>\n",
       "      <td>0.0</td>\n",
       "      <td>MONDAY</td>\n",
       "      <td>0.000</td>\n",
       "      <td>0.0</td>\n",
       "      <td>0.0</td>\n",
       "      <td>0.0</td>\n",
       "      <td>0</td>\n",
       "    </tr>\n",
       "    <tr>\n",
       "      <td>3</td>\n",
       "      <td>0.650442</td>\n",
       "      <td>NaN</td>\n",
       "      <td>-19005</td>\n",
       "      <td>-2437</td>\n",
       "      <td>-9833.0</td>\n",
       "      <td>1007153.415</td>\n",
       "      <td>19.375000</td>\n",
       "      <td>29686.5</td>\n",
       "      <td>-3039</td>\n",
       "      <td>-617.0</td>\n",
       "      <td>312682.5</td>\n",
       "      <td>12.000000</td>\n",
       "      <td>NaN</td>\n",
       "      <td>77.0</td>\n",
       "      <td>135000.0</td>\n",
       "      <td>0.008019</td>\n",
       "      <td>297000.0</td>\n",
       "      <td>10.0</td>\n",
       "      <td>NaN</td>\n",
       "      <td>17</td>\n",
       "      <td>NaN</td>\n",
       "      <td>NaN</td>\n",
       "      <td>WEDNESDAY</td>\n",
       "      <td>NaN</td>\n",
       "      <td>2.0</td>\n",
       "      <td>8.0</td>\n",
       "      <td>NaN</td>\n",
       "      <td>0</td>\n",
       "    </tr>\n",
       "    <tr>\n",
       "      <td>4</td>\n",
       "      <td>0.322738</td>\n",
       "      <td>NaN</td>\n",
       "      <td>-19932</td>\n",
       "      <td>-3458</td>\n",
       "      <td>-4311.0</td>\n",
       "      <td>835985.340</td>\n",
       "      <td>3.636364</td>\n",
       "      <td>21865.5</td>\n",
       "      <td>-3038</td>\n",
       "      <td>-1106.0</td>\n",
       "      <td>513000.0</td>\n",
       "      <td>15.333333</td>\n",
       "      <td>146250.000000</td>\n",
       "      <td>31.0</td>\n",
       "      <td>121500.0</td>\n",
       "      <td>0.028663</td>\n",
       "      <td>513000.0</td>\n",
       "      <td>17.0</td>\n",
       "      <td>0.0</td>\n",
       "      <td>11</td>\n",
       "      <td>1.0</td>\n",
       "      <td>0.0</td>\n",
       "      <td>THURSDAY</td>\n",
       "      <td>0.000</td>\n",
       "      <td>0.0</td>\n",
       "      <td>5.0</td>\n",
       "      <td>0.0</td>\n",
       "      <td>0</td>\n",
       "    </tr>\n",
       "  </tbody>\n",
       "</table>\n",
       "</div>"
      ],
      "text/plain": [
       "   EXT_SOURCE_2  EXT_SOURCE_3  DAYS_BIRTH  DAYS_ID_PUBLISH  DAYS_REGISTRATION  \\\n",
       "0      0.262949      0.139376       -9461            -2120            -3648.0   \n",
       "1      0.622246           NaN      -16765             -291            -1186.0   \n",
       "2      0.555912      0.729567      -19046            -2531            -4260.0   \n",
       "3      0.650442           NaN      -19005            -2437            -9833.0   \n",
       "4      0.322738           NaN      -19932            -3458            -4311.0   \n",
       "\n",
       "   INS_AMT_SUM  INS_DAYS_OVERDUE_MEAN  AMT_ANNUITY  DAYS_EMPLOYED  \\\n",
       "0   219625.695              20.421053      24700.5           -637   \n",
       "1  1618864.650               7.160000      35698.5          -1188   \n",
       "2    21288.465               7.666667       6750.0           -225   \n",
       "3  1007153.415              19.375000      29686.5          -3039   \n",
       "4   835985.340               3.636364      21865.5          -3038   \n",
       "\n",
       "   DAYS_LAST_PHONE_CHANGE  AMT_CREDIT  POS_CREDIT_TERM_MEAN  \\\n",
       "0                 -1134.0    406597.5             24.000000   \n",
       "1                  -828.0   1293502.5             10.107143   \n",
       "2                  -815.0    135000.0              3.750000   \n",
       "3                  -617.0    312682.5             12.000000   \n",
       "4                 -1106.0    513000.0             15.333333   \n",
       "\n",
       "   BRU_MEAN_AMT_CREDIT_SUM  INS_DAYS_OVERDUE_MAX  AMT_INCOME_TOTAL  \\\n",
       "0            108131.945625                  31.0          202500.0   \n",
       "1            254350.125000                  14.0          270000.0   \n",
       "2             94518.900000                  11.0           67500.0   \n",
       "3                      NaN                  77.0          135000.0   \n",
       "4            146250.000000                  31.0          121500.0   \n",
       "\n",
       "   REGION_POPULATION_RELATIVE  AMT_GOODS_PRICE  INS_NUM_MAX  \\\n",
       "0                    0.018801         351000.0         19.0   \n",
       "1                    0.003541        1129500.0         12.0   \n",
       "2                    0.010032         135000.0          3.0   \n",
       "3                    0.008019         297000.0         10.0   \n",
       "4                    0.028663         513000.0         17.0   \n",
       "\n",
       "   BRU_MAX_CRDT_SUM_DEBT  HOUR_APPR_PROCESS_START  BRU_MEAN_CLOSED_COUNT  \\\n",
       "0               245781.0                       10                    6.0   \n",
       "1                    0.0                       11                    3.0   \n",
       "2                    0.0                        9                    2.0   \n",
       "3                    NaN                       17                    NaN   \n",
       "4                    0.0                       11                    1.0   \n",
       "\n",
       "   BRU_MEAN_ACTIVE_COUNT WEEKDAY_APPR_PROCESS_START  BRU_AMT_MAX_OVERDUE  \\\n",
       "0                    2.0                  WEDNESDAY             5043.645   \n",
       "1                    1.0                     MONDAY                0.000   \n",
       "2                    0.0                     MONDAY                0.000   \n",
       "3                    NaN                  WEDNESDAY                  NaN   \n",
       "4                    0.0                   THURSDAY                0.000   \n",
       "\n",
       "   OBS_30_CNT_SOCIAL_CIRCLE  PREV_CLT_REP_COUNT  AMT_REQ_CREDIT_BUREAU_YEAR  \\\n",
       "0                       2.0                 0.0                         1.0   \n",
       "1                       1.0                 1.0                         0.0   \n",
       "2                       0.0                 0.0                         0.0   \n",
       "3                       2.0                 8.0                         NaN   \n",
       "4                       0.0                 5.0                         0.0   \n",
       "\n",
       "   default  \n",
       "0        1  \n",
       "1        0  \n",
       "2        0  \n",
       "3        0  \n",
       "4        0  "
      ]
     },
     "execution_count": 14,
     "metadata": {},
     "output_type": "execute_result"
    }
   ],
   "source": [
    "overeda.head()"
   ]
  },
  {
   "cell_type": "code",
   "execution_count": 81,
   "metadata": {},
   "outputs": [
    {
     "data": {
      "text/html": [
       "<div>\n",
       "<style scoped>\n",
       "    .dataframe tbody tr th:only-of-type {\n",
       "        vertical-align: middle;\n",
       "    }\n",
       "\n",
       "    .dataframe tbody tr th {\n",
       "        vertical-align: top;\n",
       "    }\n",
       "\n",
       "    .dataframe thead th {\n",
       "        text-align: right;\n",
       "    }\n",
       "</style>\n",
       "<table border=\"1\" class=\"dataframe\">\n",
       "  <thead>\n",
       "    <tr style=\"text-align: right;\">\n",
       "      <th></th>\n",
       "      <th>EXT_SOURCE_2</th>\n",
       "      <th>EXT_SOURCE_3</th>\n",
       "      <th>DAYS_BIRTH</th>\n",
       "      <th>DAYS_ID_PUBLISH</th>\n",
       "      <th>DAYS_REGISTRATION</th>\n",
       "      <th>INS_AMT_SUM</th>\n",
       "      <th>INS_DAYS_OVERDUE_MEAN</th>\n",
       "      <th>AMT_ANNUITY</th>\n",
       "      <th>DAYS_EMPLOYED</th>\n",
       "      <th>DAYS_LAST_PHONE_CHANGE</th>\n",
       "      <th>AMT_CREDIT</th>\n",
       "      <th>POS_CREDIT_TERM_MEAN</th>\n",
       "      <th>BRU_MEAN_AMT_CREDIT_SUM</th>\n",
       "      <th>INS_DAYS_OVERDUE_MAX</th>\n",
       "      <th>AMT_INCOME_TOTAL</th>\n",
       "      <th>REGION_POPULATION_RELATIVE</th>\n",
       "      <th>AMT_GOODS_PRICE</th>\n",
       "      <th>INS_NUM_MAX</th>\n",
       "      <th>BRU_MAX_CRDT_SUM_DEBT</th>\n",
       "      <th>HOUR_APPR_PROCESS_START</th>\n",
       "      <th>BRU_MEAN_CLOSED_COUNT</th>\n",
       "      <th>BRU_MEAN_ACTIVE_COUNT</th>\n",
       "      <th>WEEKDAY_APPR_PROCESS_START</th>\n",
       "      <th>BRU_AMT_MAX_OVERDUE</th>\n",
       "      <th>OBS_30_CNT_SOCIAL_CIRCLE</th>\n",
       "      <th>PREV_CLT_REP_COUNT</th>\n",
       "      <th>AMT_REQ_CREDIT_BUREAU_YEAR</th>\n",
       "      <th>default</th>\n",
       "    </tr>\n",
       "  </thead>\n",
       "  <tbody>\n",
       "    <tr>\n",
       "      <td>0</td>\n",
       "      <td>0.262949</td>\n",
       "      <td>0.139376</td>\n",
       "      <td>9461</td>\n",
       "      <td>2120</td>\n",
       "      <td>3648.0</td>\n",
       "      <td>219625.695</td>\n",
       "      <td>20.421053</td>\n",
       "      <td>24700.5</td>\n",
       "      <td>637</td>\n",
       "      <td>1134.0</td>\n",
       "      <td>406597.5</td>\n",
       "      <td>24.000000</td>\n",
       "      <td>108131.945625</td>\n",
       "      <td>31.0</td>\n",
       "      <td>202500.0</td>\n",
       "      <td>0.018801</td>\n",
       "      <td>351000.0</td>\n",
       "      <td>19.0</td>\n",
       "      <td>245781.0</td>\n",
       "      <td>10</td>\n",
       "      <td>6.0</td>\n",
       "      <td>2.0</td>\n",
       "      <td>WEDNESDAY</td>\n",
       "      <td>5043.645</td>\n",
       "      <td>2.0</td>\n",
       "      <td>0.0</td>\n",
       "      <td>1.0</td>\n",
       "      <td>1</td>\n",
       "    </tr>\n",
       "    <tr>\n",
       "      <td>1</td>\n",
       "      <td>0.622246</td>\n",
       "      <td>NaN</td>\n",
       "      <td>16765</td>\n",
       "      <td>291</td>\n",
       "      <td>1186.0</td>\n",
       "      <td>1618864.650</td>\n",
       "      <td>7.160000</td>\n",
       "      <td>35698.5</td>\n",
       "      <td>1188</td>\n",
       "      <td>828.0</td>\n",
       "      <td>1293502.5</td>\n",
       "      <td>10.107143</td>\n",
       "      <td>254350.125000</td>\n",
       "      <td>14.0</td>\n",
       "      <td>270000.0</td>\n",
       "      <td>0.003541</td>\n",
       "      <td>1129500.0</td>\n",
       "      <td>12.0</td>\n",
       "      <td>0.0</td>\n",
       "      <td>11</td>\n",
       "      <td>3.0</td>\n",
       "      <td>1.0</td>\n",
       "      <td>MONDAY</td>\n",
       "      <td>0.000</td>\n",
       "      <td>1.0</td>\n",
       "      <td>1.0</td>\n",
       "      <td>0.0</td>\n",
       "      <td>0</td>\n",
       "    </tr>\n",
       "    <tr>\n",
       "      <td>2</td>\n",
       "      <td>0.555912</td>\n",
       "      <td>0.729567</td>\n",
       "      <td>19046</td>\n",
       "      <td>2531</td>\n",
       "      <td>4260.0</td>\n",
       "      <td>21288.465</td>\n",
       "      <td>7.666667</td>\n",
       "      <td>6750.0</td>\n",
       "      <td>225</td>\n",
       "      <td>815.0</td>\n",
       "      <td>135000.0</td>\n",
       "      <td>3.750000</td>\n",
       "      <td>94518.900000</td>\n",
       "      <td>11.0</td>\n",
       "      <td>67500.0</td>\n",
       "      <td>0.010032</td>\n",
       "      <td>135000.0</td>\n",
       "      <td>3.0</td>\n",
       "      <td>0.0</td>\n",
       "      <td>9</td>\n",
       "      <td>2.0</td>\n",
       "      <td>0.0</td>\n",
       "      <td>MONDAY</td>\n",
       "      <td>0.000</td>\n",
       "      <td>0.0</td>\n",
       "      <td>0.0</td>\n",
       "      <td>0.0</td>\n",
       "      <td>0</td>\n",
       "    </tr>\n",
       "    <tr>\n",
       "      <td>3</td>\n",
       "      <td>0.650442</td>\n",
       "      <td>NaN</td>\n",
       "      <td>19005</td>\n",
       "      <td>2437</td>\n",
       "      <td>9833.0</td>\n",
       "      <td>1007153.415</td>\n",
       "      <td>19.375000</td>\n",
       "      <td>29686.5</td>\n",
       "      <td>3039</td>\n",
       "      <td>617.0</td>\n",
       "      <td>312682.5</td>\n",
       "      <td>12.000000</td>\n",
       "      <td>NaN</td>\n",
       "      <td>77.0</td>\n",
       "      <td>135000.0</td>\n",
       "      <td>0.008019</td>\n",
       "      <td>297000.0</td>\n",
       "      <td>10.0</td>\n",
       "      <td>NaN</td>\n",
       "      <td>17</td>\n",
       "      <td>NaN</td>\n",
       "      <td>NaN</td>\n",
       "      <td>WEDNESDAY</td>\n",
       "      <td>NaN</td>\n",
       "      <td>2.0</td>\n",
       "      <td>8.0</td>\n",
       "      <td>NaN</td>\n",
       "      <td>0</td>\n",
       "    </tr>\n",
       "    <tr>\n",
       "      <td>4</td>\n",
       "      <td>0.322738</td>\n",
       "      <td>NaN</td>\n",
       "      <td>19932</td>\n",
       "      <td>3458</td>\n",
       "      <td>4311.0</td>\n",
       "      <td>835985.340</td>\n",
       "      <td>3.636364</td>\n",
       "      <td>21865.5</td>\n",
       "      <td>3038</td>\n",
       "      <td>1106.0</td>\n",
       "      <td>513000.0</td>\n",
       "      <td>15.333333</td>\n",
       "      <td>146250.000000</td>\n",
       "      <td>31.0</td>\n",
       "      <td>121500.0</td>\n",
       "      <td>0.028663</td>\n",
       "      <td>513000.0</td>\n",
       "      <td>17.0</td>\n",
       "      <td>0.0</td>\n",
       "      <td>11</td>\n",
       "      <td>1.0</td>\n",
       "      <td>0.0</td>\n",
       "      <td>THURSDAY</td>\n",
       "      <td>0.000</td>\n",
       "      <td>0.0</td>\n",
       "      <td>5.0</td>\n",
       "      <td>0.0</td>\n",
       "      <td>0</td>\n",
       "    </tr>\n",
       "  </tbody>\n",
       "</table>\n",
       "</div>"
      ],
      "text/plain": [
       "   EXT_SOURCE_2  EXT_SOURCE_3  DAYS_BIRTH  DAYS_ID_PUBLISH  DAYS_REGISTRATION  \\\n",
       "0      0.262949      0.139376        9461             2120             3648.0   \n",
       "1      0.622246           NaN       16765              291             1186.0   \n",
       "2      0.555912      0.729567       19046             2531             4260.0   \n",
       "3      0.650442           NaN       19005             2437             9833.0   \n",
       "4      0.322738           NaN       19932             3458             4311.0   \n",
       "\n",
       "   INS_AMT_SUM  INS_DAYS_OVERDUE_MEAN  AMT_ANNUITY  DAYS_EMPLOYED  \\\n",
       "0   219625.695              20.421053      24700.5            637   \n",
       "1  1618864.650               7.160000      35698.5           1188   \n",
       "2    21288.465               7.666667       6750.0            225   \n",
       "3  1007153.415              19.375000      29686.5           3039   \n",
       "4   835985.340               3.636364      21865.5           3038   \n",
       "\n",
       "   DAYS_LAST_PHONE_CHANGE  AMT_CREDIT  POS_CREDIT_TERM_MEAN  \\\n",
       "0                  1134.0    406597.5             24.000000   \n",
       "1                   828.0   1293502.5             10.107143   \n",
       "2                   815.0    135000.0              3.750000   \n",
       "3                   617.0    312682.5             12.000000   \n",
       "4                  1106.0    513000.0             15.333333   \n",
       "\n",
       "   BRU_MEAN_AMT_CREDIT_SUM  INS_DAYS_OVERDUE_MAX  AMT_INCOME_TOTAL  \\\n",
       "0            108131.945625                  31.0          202500.0   \n",
       "1            254350.125000                  14.0          270000.0   \n",
       "2             94518.900000                  11.0           67500.0   \n",
       "3                      NaN                  77.0          135000.0   \n",
       "4            146250.000000                  31.0          121500.0   \n",
       "\n",
       "   REGION_POPULATION_RELATIVE  AMT_GOODS_PRICE  INS_NUM_MAX  \\\n",
       "0                    0.018801         351000.0         19.0   \n",
       "1                    0.003541        1129500.0         12.0   \n",
       "2                    0.010032         135000.0          3.0   \n",
       "3                    0.008019         297000.0         10.0   \n",
       "4                    0.028663         513000.0         17.0   \n",
       "\n",
       "   BRU_MAX_CRDT_SUM_DEBT  HOUR_APPR_PROCESS_START  BRU_MEAN_CLOSED_COUNT  \\\n",
       "0               245781.0                       10                    6.0   \n",
       "1                    0.0                       11                    3.0   \n",
       "2                    0.0                        9                    2.0   \n",
       "3                    NaN                       17                    NaN   \n",
       "4                    0.0                       11                    1.0   \n",
       "\n",
       "   BRU_MEAN_ACTIVE_COUNT WEEKDAY_APPR_PROCESS_START  BRU_AMT_MAX_OVERDUE  \\\n",
       "0                    2.0                  WEDNESDAY             5043.645   \n",
       "1                    1.0                     MONDAY                0.000   \n",
       "2                    0.0                     MONDAY                0.000   \n",
       "3                    NaN                  WEDNESDAY                  NaN   \n",
       "4                    0.0                   THURSDAY                0.000   \n",
       "\n",
       "   OBS_30_CNT_SOCIAL_CIRCLE  PREV_CLT_REP_COUNT  AMT_REQ_CREDIT_BUREAU_YEAR  \\\n",
       "0                       2.0                 0.0                         1.0   \n",
       "1                       1.0                 1.0                         0.0   \n",
       "2                       0.0                 0.0                         0.0   \n",
       "3                       2.0                 8.0                         NaN   \n",
       "4                       0.0                 5.0                         0.0   \n",
       "\n",
       "   default  \n",
       "0        1  \n",
       "1        0  \n",
       "2        0  \n",
       "3        0  \n",
       "4        0  "
      ]
     },
     "execution_count": 81,
     "metadata": {},
     "output_type": "execute_result"
    }
   ],
   "source": [
    " ## Changing negative values to absolute values to make more sense out of it in the visualization and hypothesis testing\n",
    "overeda['DAYS_ID_PUBLISH'] = abs(overeda['DAYS_ID_PUBLISH'])\n",
    "overeda['DAYS_BIRTH'] = abs(overeda['DAYS_BIRTH'])\n",
    "overeda['DAYS_REGISTRATION'] = abs(overeda['DAYS_REGISTRATION'])\n",
    "overeda['DAYS_LAST_PHONE_CHANGE'] = abs(overeda['DAYS_LAST_PHONE_CHANGE'])\n",
    "overeda['DAYS_EMPLOYED'] = abs(overeda['DAYS_EMPLOYED'])\n",
    "overeda.head()"
   ]
  },
  {
   "cell_type": "code",
   "execution_count": 16,
   "metadata": {},
   "outputs": [
    {
     "data": {
      "text/plain": [
       "Index(['EXT_SOURCE_2', 'EXT_SOURCE_3', 'DAYS_BIRTH', 'DAYS_ID_PUBLISH',\n",
       "       'DAYS_REGISTRATION', 'INS_AMT_SUM', 'INS_DAYS_OVERDUE_MEAN',\n",
       "       'AMT_ANNUITY', 'DAYS_EMPLOYED', 'DAYS_LAST_PHONE_CHANGE', 'AMT_CREDIT',\n",
       "       'POS_CREDIT_TERM_MEAN', 'BRU_MEAN_AMT_CREDIT_SUM',\n",
       "       'INS_DAYS_OVERDUE_MAX', 'AMT_INCOME_TOTAL',\n",
       "       'REGION_POPULATION_RELATIVE', 'AMT_GOODS_PRICE', 'INS_NUM_MAX',\n",
       "       'BRU_MAX_CRDT_SUM_DEBT', 'HOUR_APPR_PROCESS_START',\n",
       "       'BRU_MEAN_CLOSED_COUNT', 'BRU_MEAN_ACTIVE_COUNT',\n",
       "       'WEEKDAY_APPR_PROCESS_START', 'BRU_AMT_MAX_OVERDUE',\n",
       "       'OBS_30_CNT_SOCIAL_CIRCLE', 'PREV_CLT_REP_COUNT',\n",
       "       'AMT_REQ_CREDIT_BUREAU_YEAR', 'default'],\n",
       "      dtype='object')"
      ]
     },
     "execution_count": 16,
     "metadata": {},
     "output_type": "execute_result"
    }
   ],
   "source": [
    "overeda.columns"
   ]
  },
  {
   "cell_type": "code",
   "execution_count": 17,
   "metadata": {},
   "outputs": [],
   "source": [
    "# Calculating the mean value for each column for default and non-default groups\n",
    "ovmean = overeda.groupby('default', as_index = False).mean()"
   ]
  },
  {
   "cell_type": "code",
   "execution_count": 18,
   "metadata": {},
   "outputs": [],
   "source": [
    "# Calculating the median value for each column for default and non-default groups\n",
    "ovmed = overeda.groupby('default', as_index = False).median()"
   ]
  },
  {
   "cell_type": "code",
   "execution_count": 19,
   "metadata": {},
   "outputs": [
    {
     "data": {
      "text/html": [
       "<div>\n",
       "<style scoped>\n",
       "    .dataframe tbody tr th:only-of-type {\n",
       "        vertical-align: middle;\n",
       "    }\n",
       "\n",
       "    .dataframe tbody tr th {\n",
       "        vertical-align: top;\n",
       "    }\n",
       "\n",
       "    .dataframe thead th {\n",
       "        text-align: right;\n",
       "    }\n",
       "</style>\n",
       "<table border=\"1\" class=\"dataframe\">\n",
       "  <thead>\n",
       "    <tr style=\"text-align: right;\">\n",
       "      <th></th>\n",
       "      <th>default</th>\n",
       "      <th>EXT_SOURCE_2</th>\n",
       "      <th>EXT_SOURCE_3</th>\n",
       "      <th>DAYS_BIRTH</th>\n",
       "      <th>DAYS_ID_PUBLISH</th>\n",
       "      <th>DAYS_REGISTRATION</th>\n",
       "      <th>INS_AMT_SUM</th>\n",
       "      <th>INS_DAYS_OVERDUE_MEAN</th>\n",
       "      <th>AMT_ANNUITY</th>\n",
       "      <th>DAYS_EMPLOYED</th>\n",
       "      <th>DAYS_LAST_PHONE_CHANGE</th>\n",
       "      <th>AMT_CREDIT</th>\n",
       "      <th>POS_CREDIT_TERM_MEAN</th>\n",
       "      <th>BRU_MEAN_AMT_CREDIT_SUM</th>\n",
       "      <th>INS_DAYS_OVERDUE_MAX</th>\n",
       "      <th>AMT_INCOME_TOTAL</th>\n",
       "      <th>REGION_POPULATION_RELATIVE</th>\n",
       "      <th>AMT_GOODS_PRICE</th>\n",
       "      <th>INS_NUM_MAX</th>\n",
       "      <th>BRU_MAX_CRDT_SUM_DEBT</th>\n",
       "      <th>HOUR_APPR_PROCESS_START</th>\n",
       "      <th>BRU_MEAN_CLOSED_COUNT</th>\n",
       "      <th>BRU_MEAN_ACTIVE_COUNT</th>\n",
       "      <th>BRU_AMT_MAX_OVERDUE</th>\n",
       "      <th>OBS_30_CNT_SOCIAL_CIRCLE</th>\n",
       "      <th>PREV_CLT_REP_COUNT</th>\n",
       "      <th>AMT_REQ_CREDIT_BUREAU_YEAR</th>\n",
       "    </tr>\n",
       "  </thead>\n",
       "  <tbody>\n",
       "    <tr>\n",
       "      <td>0</td>\n",
       "      <td>0</td>\n",
       "      <td>0.523479</td>\n",
       "      <td>0.520969</td>\n",
       "      <td>16138.176397</td>\n",
       "      <td>3017.219788</td>\n",
       "      <td>5029.941065</td>\n",
       "      <td>677949.983775</td>\n",
       "      <td>11.297230</td>\n",
       "      <td>27163.623349</td>\n",
       "      <td>69668.812255</td>\n",
       "      <td>976.388294</td>\n",
       "      <td>602648.282002</td>\n",
       "      <td>14.483313</td>\n",
       "      <td>383229.162980</td>\n",
       "      <td>37.879407</td>\n",
       "      <td>169077.722266</td>\n",
       "      <td>0.021021</td>\n",
       "      <td>542736.795003</td>\n",
       "      <td>24.123348</td>\n",
       "      <td>507719.009438</td>\n",
       "      <td>12.086807</td>\n",
       "      <td>3.513135</td>\n",
       "      <td>2.021952</td>\n",
       "      <td>6359.375132</td>\n",
       "      <td>1.415742</td>\n",
       "      <td>3.544946</td>\n",
       "      <td>1.889199</td>\n",
       "    </tr>\n",
       "    <tr>\n",
       "      <td>1</td>\n",
       "      <td>1</td>\n",
       "      <td>0.410935</td>\n",
       "      <td>0.390717</td>\n",
       "      <td>14884.828077</td>\n",
       "      <td>2732.099617</td>\n",
       "      <td>4487.127009</td>\n",
       "      <td>614110.610489</td>\n",
       "      <td>10.272889</td>\n",
       "      <td>26481.744290</td>\n",
       "      <td>45587.324149</td>\n",
       "      <td>808.796818</td>\n",
       "      <td>557778.527674</td>\n",
       "      <td>14.940229</td>\n",
       "      <td>316600.958111</td>\n",
       "      <td>37.113399</td>\n",
       "      <td>165611.760906</td>\n",
       "      <td>0.019131</td>\n",
       "      <td>488972.412554</td>\n",
       "      <td>24.876284</td>\n",
       "      <td>499155.682675</td>\n",
       "      <td>11.797100</td>\n",
       "      <td>3.122987</td>\n",
       "      <td>2.471328</td>\n",
       "      <td>8922.033307</td>\n",
       "      <td>1.496147</td>\n",
       "      <td>3.792409</td>\n",
       "      <td>2.028783</td>\n",
       "    </tr>\n",
       "  </tbody>\n",
       "</table>\n",
       "</div>"
      ],
      "text/plain": [
       "   default  EXT_SOURCE_2  EXT_SOURCE_3    DAYS_BIRTH  DAYS_ID_PUBLISH  \\\n",
       "0        0      0.523479      0.520969  16138.176397      3017.219788   \n",
       "1        1      0.410935      0.390717  14884.828077      2732.099617   \n",
       "\n",
       "   DAYS_REGISTRATION    INS_AMT_SUM  INS_DAYS_OVERDUE_MEAN   AMT_ANNUITY  \\\n",
       "0        5029.941065  677949.983775              11.297230  27163.623349   \n",
       "1        4487.127009  614110.610489              10.272889  26481.744290   \n",
       "\n",
       "   DAYS_EMPLOYED  DAYS_LAST_PHONE_CHANGE     AMT_CREDIT  POS_CREDIT_TERM_MEAN  \\\n",
       "0   69668.812255              976.388294  602648.282002             14.483313   \n",
       "1   45587.324149              808.796818  557778.527674             14.940229   \n",
       "\n",
       "   BRU_MEAN_AMT_CREDIT_SUM  INS_DAYS_OVERDUE_MAX  AMT_INCOME_TOTAL  \\\n",
       "0            383229.162980             37.879407     169077.722266   \n",
       "1            316600.958111             37.113399     165611.760906   \n",
       "\n",
       "   REGION_POPULATION_RELATIVE  AMT_GOODS_PRICE  INS_NUM_MAX  \\\n",
       "0                    0.021021    542736.795003    24.123348   \n",
       "1                    0.019131    488972.412554    24.876284   \n",
       "\n",
       "   BRU_MAX_CRDT_SUM_DEBT  HOUR_APPR_PROCESS_START  BRU_MEAN_CLOSED_COUNT  \\\n",
       "0          507719.009438                12.086807               3.513135   \n",
       "1          499155.682675                11.797100               3.122987   \n",
       "\n",
       "   BRU_MEAN_ACTIVE_COUNT  BRU_AMT_MAX_OVERDUE  OBS_30_CNT_SOCIAL_CIRCLE  \\\n",
       "0               2.021952          6359.375132                  1.415742   \n",
       "1               2.471328          8922.033307                  1.496147   \n",
       "\n",
       "   PREV_CLT_REP_COUNT  AMT_REQ_CREDIT_BUREAU_YEAR  \n",
       "0            3.544946                    1.889199  \n",
       "1            3.792409                    2.028783  "
      ]
     },
     "execution_count": 19,
     "metadata": {},
     "output_type": "execute_result"
    }
   ],
   "source": [
    "ovmean.head()"
   ]
  },
  {
   "cell_type": "code",
   "execution_count": 20,
   "metadata": {},
   "outputs": [
    {
     "data": {
      "text/html": [
       "<div>\n",
       "<style scoped>\n",
       "    .dataframe tbody tr th:only-of-type {\n",
       "        vertical-align: middle;\n",
       "    }\n",
       "\n",
       "    .dataframe tbody tr th {\n",
       "        vertical-align: top;\n",
       "    }\n",
       "\n",
       "    .dataframe thead th {\n",
       "        text-align: right;\n",
       "    }\n",
       "</style>\n",
       "<table border=\"1\" class=\"dataframe\">\n",
       "  <thead>\n",
       "    <tr style=\"text-align: right;\">\n",
       "      <th></th>\n",
       "      <th>default</th>\n",
       "      <th>EXT_SOURCE_2</th>\n",
       "      <th>EXT_SOURCE_3</th>\n",
       "      <th>DAYS_BIRTH</th>\n",
       "      <th>DAYS_ID_PUBLISH</th>\n",
       "      <th>DAYS_REGISTRATION</th>\n",
       "      <th>INS_AMT_SUM</th>\n",
       "      <th>INS_DAYS_OVERDUE_MEAN</th>\n",
       "      <th>AMT_ANNUITY</th>\n",
       "      <th>DAYS_EMPLOYED</th>\n",
       "      <th>DAYS_LAST_PHONE_CHANGE</th>\n",
       "      <th>AMT_CREDIT</th>\n",
       "      <th>POS_CREDIT_TERM_MEAN</th>\n",
       "      <th>BRU_MEAN_AMT_CREDIT_SUM</th>\n",
       "      <th>INS_DAYS_OVERDUE_MAX</th>\n",
       "      <th>AMT_INCOME_TOTAL</th>\n",
       "      <th>REGION_POPULATION_RELATIVE</th>\n",
       "      <th>AMT_GOODS_PRICE</th>\n",
       "      <th>INS_NUM_MAX</th>\n",
       "      <th>BRU_MAX_CRDT_SUM_DEBT</th>\n",
       "      <th>HOUR_APPR_PROCESS_START</th>\n",
       "      <th>BRU_MEAN_CLOSED_COUNT</th>\n",
       "      <th>BRU_MEAN_ACTIVE_COUNT</th>\n",
       "      <th>BRU_AMT_MAX_OVERDUE</th>\n",
       "      <th>OBS_30_CNT_SOCIAL_CIRCLE</th>\n",
       "      <th>PREV_CLT_REP_COUNT</th>\n",
       "      <th>AMT_REQ_CREDIT_BUREAU_YEAR</th>\n",
       "    </tr>\n",
       "  </thead>\n",
       "  <tbody>\n",
       "    <tr>\n",
       "      <td>0</td>\n",
       "      <td>0</td>\n",
       "      <td>0.573905</td>\n",
       "      <td>0.546023</td>\n",
       "      <td>15877</td>\n",
       "      <td>3295</td>\n",
       "      <td>4544.0</td>\n",
       "      <td>333943.335</td>\n",
       "      <td>9.627907</td>\n",
       "      <td>24876.0</td>\n",
       "      <td>2304</td>\n",
       "      <td>776.0</td>\n",
       "      <td>517788.0</td>\n",
       "      <td>12.0</td>\n",
       "      <td>196213.000000</td>\n",
       "      <td>31.0</td>\n",
       "      <td>148500.0</td>\n",
       "      <td>0.018850</td>\n",
       "      <td>450000.0</td>\n",
       "      <td>12.0</td>\n",
       "      <td>133774.245</td>\n",
       "      <td>12</td>\n",
       "      <td>3.0</td>\n",
       "      <td>2.0</td>\n",
       "      <td>0.0</td>\n",
       "      <td>0.0</td>\n",
       "      <td>2.0</td>\n",
       "      <td>1.0</td>\n",
       "    </tr>\n",
       "    <tr>\n",
       "      <td>1</td>\n",
       "      <td>1</td>\n",
       "      <td>0.440381</td>\n",
       "      <td>0.379100</td>\n",
       "      <td>14282</td>\n",
       "      <td>2797</td>\n",
       "      <td>4056.0</td>\n",
       "      <td>271642.050</td>\n",
       "      <td>8.629630</td>\n",
       "      <td>25263.0</td>\n",
       "      <td>1458</td>\n",
       "      <td>594.0</td>\n",
       "      <td>497520.0</td>\n",
       "      <td>12.0</td>\n",
       "      <td>187143.499688</td>\n",
       "      <td>31.0</td>\n",
       "      <td>135000.0</td>\n",
       "      <td>0.018634</td>\n",
       "      <td>450000.0</td>\n",
       "      <td>12.0</td>\n",
       "      <td>193443.750</td>\n",
       "      <td>12</td>\n",
       "      <td>2.0</td>\n",
       "      <td>2.0</td>\n",
       "      <td>0.0</td>\n",
       "      <td>0.0</td>\n",
       "      <td>2.0</td>\n",
       "      <td>2.0</td>\n",
       "    </tr>\n",
       "  </tbody>\n",
       "</table>\n",
       "</div>"
      ],
      "text/plain": [
       "   default  EXT_SOURCE_2  EXT_SOURCE_3  DAYS_BIRTH  DAYS_ID_PUBLISH  \\\n",
       "0        0      0.573905      0.546023       15877             3295   \n",
       "1        1      0.440381      0.379100       14282             2797   \n",
       "\n",
       "   DAYS_REGISTRATION  INS_AMT_SUM  INS_DAYS_OVERDUE_MEAN  AMT_ANNUITY  \\\n",
       "0             4544.0   333943.335               9.627907      24876.0   \n",
       "1             4056.0   271642.050               8.629630      25263.0   \n",
       "\n",
       "   DAYS_EMPLOYED  DAYS_LAST_PHONE_CHANGE  AMT_CREDIT  POS_CREDIT_TERM_MEAN  \\\n",
       "0           2304                   776.0    517788.0                  12.0   \n",
       "1           1458                   594.0    497520.0                  12.0   \n",
       "\n",
       "   BRU_MEAN_AMT_CREDIT_SUM  INS_DAYS_OVERDUE_MAX  AMT_INCOME_TOTAL  \\\n",
       "0            196213.000000                  31.0          148500.0   \n",
       "1            187143.499688                  31.0          135000.0   \n",
       "\n",
       "   REGION_POPULATION_RELATIVE  AMT_GOODS_PRICE  INS_NUM_MAX  \\\n",
       "0                    0.018850         450000.0         12.0   \n",
       "1                    0.018634         450000.0         12.0   \n",
       "\n",
       "   BRU_MAX_CRDT_SUM_DEBT  HOUR_APPR_PROCESS_START  BRU_MEAN_CLOSED_COUNT  \\\n",
       "0             133774.245                       12                    3.0   \n",
       "1             193443.750                       12                    2.0   \n",
       "\n",
       "   BRU_MEAN_ACTIVE_COUNT  BRU_AMT_MAX_OVERDUE  OBS_30_CNT_SOCIAL_CIRCLE  \\\n",
       "0                    2.0                  0.0                       0.0   \n",
       "1                    2.0                  0.0                       0.0   \n",
       "\n",
       "   PREV_CLT_REP_COUNT  AMT_REQ_CREDIT_BUREAU_YEAR  \n",
       "0                 2.0                         1.0  \n",
       "1                 2.0                         2.0  "
      ]
     },
     "execution_count": 20,
     "metadata": {},
     "output_type": "execute_result"
    }
   ],
   "source": [
    "ovmed.head()"
   ]
  },
  {
   "cell_type": "code",
   "execution_count": 21,
   "metadata": {},
   "outputs": [],
   "source": [
    "# Creating a function to visualize a certain variable with respect to the default and non-default groups\n",
    "def credreport(col,ylabel,numbin = 0,ylt = 0,binflag = 0, ylimflag = 0):\n",
    "    \n",
    "    plt.subplots(nrows = 1,ncols = 3,figsize = (25,10))\n",
    "    plt.subplot(1,3,1)\n",
    "    sns.barplot(ovmean['default'], ovmean[col])\n",
    "    #plt.bar(dfmean['default'], dfmean['DAYS_ID_PUBLISH'])\n",
    "    plt.title('mean comparison of defaults vs non-defaults')\n",
    "    plt.xlabel('default status')\n",
    "    plt.ylabel(ylabel)\n",
    "    plt.xticks(ovmean['default'],('non-default','default'))\n",
    "\n",
    "    plt.subplot(1,3,2)\n",
    "    sns.barplot(ovmed['default'], ovmed[col])\n",
    "    #plt.title('mean comparison of defaults vs non-defaults')\n",
    "    plt.xlabel('default status')\n",
    "    plt.ylabel(ylabel)\n",
    "    #plt.xticks(dfmean['default'],('non-default','default')\n",
    "    plt.title('median comparison of defaults vs non-defaults')\n",
    "    #plt.ylabel('normalized ext source 2 score')\n",
    "    plt.xticks(ovmed['default'],('non-default','default'))\n",
    "\n",
    "\n",
    "    plt.subplot(1,3,3)\n",
    "\n",
    "    ax = sns.boxplot(y = col, x = 'default', data = overeda, showfliers = True)\n",
    "    #dfeda[dfeda['default'] == 0].boxplot(column = ['AMT_INCOME_TOTAL'])\n",
    "    if ylimflag == 1:\n",
    "        ax.set(ylim =(0,ylt))\n",
    "    plt.xlabel('default status')\n",
    "    plt.ylabel(ylabel)\n",
    "    if binflag == 1:\n",
    "        plt.locator_params(axis ='y', nbins= numbin)\n",
    "    \n",
    "    plt.xticks(ovmean['default'],('non-default','default'))\n",
    "    #plt.locator_params(axis='x', nbins=10)\n",
    "\n",
    "    plt.subplots_adjust(wspace = 0.4)\n",
    "    plt.show()"
   ]
  },
  {
   "cell_type": "code",
   "execution_count": 78,
   "metadata": {},
   "outputs": [
    {
     "data": {
      "text/plain": [
       "14"
      ]
     },
     "execution_count": 78,
     "metadata": {},
     "output_type": "execute_result"
    }
   ],
   "source": [
    "len(columnsofinterest)"
   ]
  },
  {
   "cell_type": "markdown",
   "metadata": {},
   "source": [
    "Let us first visualize the <b> total income amount (AMT_INCOME_TOTAL) </b>  and see whether it varies among the default and the non default group."
   ]
  },
  {
   "cell_type": "code",
   "execution_count": 25,
   "metadata": {},
   "outputs": [],
   "source": [
    "inc_def = overeda[overeda['default'] == 1]['AMT_INCOME_TOTAL']\n",
    "inc_nondef = overeda[overeda['default'] == 0]['AMT_INCOME_TOTAL']"
   ]
  },
  {
   "cell_type": "code",
   "execution_count": 35,
   "metadata": {},
   "outputs": [
    {
     "name": "stdout",
     "output_type": "stream",
     "text": [
      "The mean value of total income for the default group is 165611.761\n",
      "The mean value of total income for the non-default group is 169077.722\n"
     ]
    }
   ],
   "source": [
    "print('The mean value of total income for the default group is {:0.3f}'.format(inc_def.mean()))\n",
    "print('The mean value of total income for the non-default group is {:0.3f}'.format(inc_nondef.mean()))"
   ]
  },
  {
   "cell_type": "code",
   "execution_count": 32,
   "metadata": {},
   "outputs": [
    {
     "name": "stdout",
     "output_type": "stream",
     "text": [
      "169077.7222658179\n"
     ]
    }
   ],
   "source": [
    "print(inc_nondef.mean())"
   ]
  },
  {
   "cell_type": "code",
   "execution_count": 22,
   "metadata": {},
   "outputs": [
    {
     "data": {
      "image/png": "[encoded data removed]",
      "text/plain": [
       "<Figure size 1800x720 with 3 Axes>"
      ]
     },
     "metadata": {
      "needs_background": "light"
     },
     "output_type": "display_data"
    }
   ],
   "source": [
    "credreport('AMT_INCOME_TOTAL','Total Income in $',numbin = 35,ylt = 500000,binflag = 1, ylimflag = 1)"
   ]
  },
  {
   "cell_type": "markdown",
   "metadata": {},
   "source": [
    "The mean total income amount for the non-default group is 169077.722 whereas the total income amount for the\n",
    "default group is 165611.76. We can also visualize this difference in the bargraphs. In conclusion, the difference\n",
    "doesn't appear to be substantial and consequently, total income amount somewhat surprisingly doesn't appear to be a good indicator to differentiate the defaul and non-default groups."
   ]
  },
  {
   "cell_type": "code",
   "execution_count": null,
   "metadata": {},
   "outputs": [],
   "source": [
    "\n",
    "\n",
    "\n",
    "\n"
   ]
  },
  {
   "cell_type": "markdown",
   "metadata": {},
   "source": [
    "I am curious to see whether <b> age of an applicant (DAYS_BIRTH) </b>\n",
    "has any bearing on his/her probability of defaulting.\n",
    "Let get going and visualize the DAYS_BIRTH variable."
   ]
  },
  {
   "cell_type": "code",
   "execution_count": 83,
   "metadata": {},
   "outputs": [
    {
     "data": {
      "image/png": "[encoded data removed]",
      "text/plain": [
       "<Figure size 1800x720 with 3 Axes>"
      ]
     },
     "metadata": {
      "needs_background": "light"
     },
     "output_type": "display_data"
    }
   ],
   "source": [
    "credreport('DAYS_BIRTH','Age in Days at the Time of Application',numbin = 35, binflag = 1)"
   ]
  },
  {
   "cell_type": "code",
   "execution_count": 84,
   "metadata": {},
   "outputs": [],
   "source": [
    "dob_def = overeda[overeda['default'] == 1]['DAYS_BIRTH']\n",
    "dob_nondef = overeda[overeda['default'] == 0]['DAYS_BIRTH']"
   ]
  },
  {
   "cell_type": "code",
   "execution_count": 85,
   "metadata": {},
   "outputs": [
    {
     "name": "stdout",
     "output_type": "stream",
     "text": [
      "The mean value of age for the default group is 14884.828\n",
      "The mean value of age for the non-default group is 16138.176\n"
     ]
    }
   ],
   "source": [
    "print('The mean value of age for the default group is {:0.3f}'.format(dob_def.mean()))\n",
    "print('The mean value of age for the non-default group is {:0.3f}'.format(dob_nondef.mean()))"
   ]
  },
  {
   "cell_type": "code",
   "execution_count": 86,
   "metadata": {},
   "outputs": [
    {
     "data": {
      "text/plain": [
       "count    24825.000000\n",
       "mean     14884.828077\n",
       "std       4192.844583\n",
       "min       7678.000000\n",
       "25%      11396.000000\n",
       "50%      14282.000000\n",
       "75%      18037.000000\n",
       "max      25168.000000\n",
       "Name: DAYS_BIRTH, dtype: float64"
      ]
     },
     "execution_count": 86,
     "metadata": {},
     "output_type": "execute_result"
    }
   ],
   "source": [
    "dob_def.describe()"
   ]
  },
  {
   "cell_type": "code",
   "execution_count": 87,
   "metadata": {},
   "outputs": [
    {
     "data": {
      "text/plain": [
       "count    282686.000000\n",
       "mean      16138.176397\n",
       "std        4364.200856\n",
       "min        7489.000000\n",
       "25%       12536.000000\n",
       "50%       15877.000000\n",
       "75%       19793.750000\n",
       "max       25229.000000\n",
       "Name: DAYS_BIRTH, dtype: float64"
      ]
     },
     "execution_count": 87,
     "metadata": {},
     "output_type": "execute_result"
    }
   ],
   "source": [
    "dob_nondef.describe()"
   ]
  },
  {
   "cell_type": "markdown",
   "metadata": {},
   "source": [
    "The mean age of the non-default group is 16138 days days (around 44 years) whereas the mean age of the\n",
    "default group is 14884 days (around 40 years). This means that on average the people who don't default are elder by 1254 days (around 3.5 years) than the people who defult. \n",
    "\n",
    "There is also substantial diffrence in age of the two groups in their 50th (median) and 75th percentiles respectively.\n",
    "The 75th percentile of the non-default group is 19793 days ( around 54 years) whereas for the default group it is 18037 days (around 49 years) . Similarly, the\n",
    "median of the non-default group is 15877 days (around 43 years) whereas for the default group it is 14282 days (around 39 years) . The difference in 50th and 75th percentile between the two groups can be cleary visualized in the above box plot.\n",
    "\n",
    "\n",
    "In summary, all these findings indictae that there is a substantial diffrence in age between the\n",
    "default and non-default groups wherein on average the people who default are younger than the people who don't default. \n",
    "\n",
    "Thus the age appears to be a good indicator to diffentiate a defualt from non-default."
   ]
  },
  {
   "cell_type": "code",
   "execution_count": null,
   "metadata": {},
   "outputs": [],
   "source": [
    "\n",
    "\n"
   ]
  },
  {
   "cell_type": "markdown",
   "metadata": {},
   "source": [
    "Let's now also visualize the <b> Employmet Duration (DAYS_EMPLOYED) </b> to understand it's effectiveness in differentiating the default and non-default groups."
   ]
  },
  {
   "cell_type": "code",
   "execution_count": 44,
   "metadata": {},
   "outputs": [],
   "source": [
    "emp_def = overeda[overeda['default'] == 1]['DAYS_EMPLOYED']\n",
    "emp_nondef = overeda[overeda['default'] == 0]['DAYS_EMPLOYED']"
   ]
  },
  {
   "cell_type": "code",
   "execution_count": 55,
   "metadata": {},
   "outputs": [
    {
     "name": "stdout",
     "output_type": "stream",
     "text": [
      "The mean value of employment duration for the default group is 45587.324\n",
      "The mean value of employment duration for the non-default group is 69668.812\n"
     ]
    }
   ],
   "source": [
    "print('The mean value of employment duration for the default group is {:0.3f}'.format(emp_def.mean()))\n",
    "print('The mean value of employment duration for the non-default group is {:0.3f}'.format(emp_nondef.mean()))"
   ]
  },
  {
   "cell_type": "code",
   "execution_count": 49,
   "metadata": {},
   "outputs": [
    {
     "data": {
      "text/plain": [
       "count     24825.000000\n",
       "mean      45587.324149\n",
       "std      118303.300421\n",
       "min           0.000000\n",
       "25%         677.000000\n",
       "50%        1458.000000\n",
       "75%        3280.000000\n",
       "max      365243.000000\n",
       "Name: DAYS_EMPLOYED, dtype: float64"
      ]
     },
     "execution_count": 49,
     "metadata": {},
     "output_type": "execute_result"
    }
   ],
   "source": [
    "emp_def.describe()"
   ]
  },
  {
   "cell_type": "code",
   "execution_count": 50,
   "metadata": {},
   "outputs": [
    {
     "data": {
      "text/plain": [
       "count    282686.000000\n",
       "mean      69668.812255\n",
       "std      140983.356991\n",
       "min           0.000000\n",
       "25%         967.000000\n",
       "50%        2304.000000\n",
       "75%        6074.000000\n",
       "max      365243.000000\n",
       "Name: DAYS_EMPLOYED, dtype: float64"
      ]
     },
     "execution_count": 50,
     "metadata": {},
     "output_type": "execute_result"
    }
   ],
   "source": [
    "emp_nondef.describe()"
   ]
  },
  {
   "cell_type": "code",
   "execution_count": null,
   "metadata": {},
   "outputs": [],
   "source": [
    "The mean employment duration for the non-default group is 69668 days whereas the employment duration for the\n",
    "default group is 45587. \n",
    "\n",
    "There is also substantial diffrence in employment duration of the two groups in their 50th (median) and 75th percentiles respectively.\n",
    "The 75th percentile of the non-default group is 6074 days whereas for the default group it is 3280 days. Similarly, the\n",
    "median of the non-default group is 2304 days whereas for the default group it is 1458 days. The difference in 50th and 75th percentile between the two groups can be cleary visualized in the above box plot.\n",
    "\n",
    "\n",
    "In summary, all these findings indictae that there is a substantial diffrence in employment duration between the\n",
    "default and non-default groups and thus the employment duration appears to be a good indicator to diffentiate\n",
    "a defualt from non-default."
   ]
  },
  {
   "cell_type": "code",
   "execution_count": 59,
   "metadata": {
    "scrolled": true
   },
   "outputs": [
    {
     "data": {
      "image/png": "[encoded data removed]",
      "text/plain": [
       "<Figure size 1800x720 with 3 Axes>"
      ]
     },
     "metadata": {
      "needs_background": "light"
     },
     "output_type": "display_data"
    }
   ],
   "source": [
    "credreport('DAYS_EMPLOYED','Days of current employment at the time of application',numbin =35,ylt = 20000, \n",
    "binflag = 1, ylimflag = 1)"
   ]
  },
  {
   "cell_type": "markdown",
   "metadata": {},
   "source": [
    "The mean employment duration for the non-default group is 69668 days whereas the employment duration for the\n",
    "default group is 45587. \n",
    "\n",
    "There is also substantial diffrence in employment duration of the two groups in their 50th (median) and 75th percentiles respectively.\n",
    "The 75th percentile of the non-default group is 6074 days whereas for the default group it is 3280 days. Similarly, the\n",
    "median of the non-default group is 2304 days whereas for the default group it is 1458 days. The difference in 50th and 75th percentile between the two groups can be cleary visualized in the above box plot.\n",
    "\n",
    "\n",
    "In summary, all these findings indictae that there is a substantial diffrence in employment duration between the\n",
    "default and non-default groups and thus the employment duration appears to be a good indicator to diffentiate\n",
    "a defualt from non-default.\n",
    "\n"
   ]
  },
  {
   "cell_type": "markdown",
   "metadata": {},
   "source": [
    "\n",
    "\n"
   ]
  },
  {
   "cell_type": "markdown",
   "metadata": {},
   "source": [
    "I am also interested about the variable <b> DAYS_LAST_PHONE_CHANGE </b> which tells us how many days before the application\n",
    "the applicant changed his phone number. Whether this variable has any signifinace on a person defaulting on the loan?\n",
    "Let's visualize this variable with respect to the default and non-default group."
   ]
  },
  {
   "cell_type": "code",
   "execution_count": 60,
   "metadata": {},
   "outputs": [
    {
     "data": {
      "image/png": "[encoded data removed]",
      "text/plain": [
       "<Figure size 1800x720 with 3 Axes>"
      ]
     },
     "metadata": {
      "needs_background": "light"
     },
     "output_type": "display_data"
    }
   ],
   "source": [
    "credreport('DAYS_LAST_PHONE_CHANGE','Days before application when phone # was changed',numbin = 35, binflag = 1)"
   ]
  },
  {
   "cell_type": "code",
   "execution_count": 61,
   "metadata": {},
   "outputs": [],
   "source": [
    "lpc_def = overeda[overeda['default'] == 1]['DAYS_LAST_PHONE_CHANGE']\n",
    "lpc_nondef = overeda[overeda['default'] == 0]['DAYS_LAST_PHONE_CHANGE']"
   ]
  },
  {
   "cell_type": "code",
   "execution_count": 63,
   "metadata": {},
   "outputs": [
    {
     "name": "stdout",
     "output_type": "stream",
     "text": [
      "The mean value of days since last phone change for the default group is 808.797\n",
      "The mean value of days since last phone change for the non-default group is 976.388\n"
     ]
    }
   ],
   "source": [
    "print('The mean value of days since last phone change for the default group is {:0.3f}'.format(lpc_def.mean()))\n",
    "print('The mean value of days since last phone change for the non-default group is {:0.3f}'.format(lpc_nondef.mean()))"
   ]
  },
  {
   "cell_type": "code",
   "execution_count": 64,
   "metadata": {},
   "outputs": [
    {
     "data": {
      "text/plain": [
       "count    24825.000000\n",
       "mean       808.796818\n",
       "std        758.090713\n",
       "min          0.000000\n",
       "25%        194.000000\n",
       "50%        594.000000\n",
       "75%       1301.000000\n",
       "max       4070.000000\n",
       "Name: DAYS_LAST_PHONE_CHANGE, dtype: float64"
      ]
     },
     "execution_count": 64,
     "metadata": {},
     "output_type": "execute_result"
    }
   ],
   "source": [
    "lpc_def.describe()"
   ]
  },
  {
   "cell_type": "code",
   "execution_count": 65,
   "metadata": {},
   "outputs": [
    {
     "data": {
      "text/plain": [
       "count    282685.000000\n",
       "mean        976.388294\n",
       "std         831.210739\n",
       "min           0.000000\n",
       "25%         281.000000\n",
       "50%         776.000000\n",
       "75%        1586.000000\n",
       "max        4292.000000\n",
       "Name: DAYS_LAST_PHONE_CHANGE, dtype: float64"
      ]
     },
     "execution_count": 65,
     "metadata": {},
     "output_type": "execute_result"
    }
   ],
   "source": [
    "lpc_nondef.describe()"
   ]
  },
  {
   "cell_type": "markdown",
   "metadata": {},
   "source": [
    "The mean of days since last phone number change for the non-default group is 976 days whereas the employment duration for the\n",
    "default group is 808 days. \n",
    "\n",
    "There is also substantial diffrence in days since last phone number change of the two groups in their 50th (median) and 75th percentiles respectively.\n",
    "The 75th percentile of the non-default group is 1586 days whereas for the default group it is 1301 days. Similarly, the\n",
    "median of the non-default group is 776 days whereas for the default group it is 594 days. The difference in 50th and 75th percentile between the two groups can be cleary visualized in the above box plot.\n",
    "\n",
    "In conclusion, the findings from the bargraph indicate that on average the days since last phone number change for the people who defaulted \n",
    "is earlier than that of the people who didn't default."
   ]
  },
  {
   "cell_type": "code",
   "execution_count": null,
   "metadata": {},
   "outputs": [],
   "source": [
    "\n",
    "\n"
   ]
  },
  {
   "cell_type": "markdown",
   "metadata": {},
   "source": [
    "The next variable that i am going to pickup for the visual investigation is <b> DAYS_ID_PUBLISH </b> which is nothing but\n",
    "how many days before the application did client change/update their id card with which they applied for the loan."
   ]
  },
  {
   "cell_type": "code",
   "execution_count": 23,
   "metadata": {},
   "outputs": [
    {
     "data": {
      "image/png": "[encoded data removed]",
      "text/plain": [
       "<Figure size 1800x720 with 3 Axes>"
      ]
     },
     "metadata": {
      "needs_background": "light"
     },
     "output_type": "display_data"
    }
   ],
   "source": [
    "credreport('DAYS_ID_PUBLISH','ID Change Before Application in days',numbin = 35, binflag = 1)"
   ]
  },
  {
   "cell_type": "code",
   "execution_count": 67,
   "metadata": {},
   "outputs": [],
   "source": [
    "idc_def = overeda[overeda['default'] == 1]['DAYS_ID_PUBLISH']\n",
    "idc_nondef = overeda[overeda['default'] == 0]['DAYS_ID_PUBLISH']"
   ]
  },
  {
   "cell_type": "code",
   "execution_count": 68,
   "metadata": {},
   "outputs": [
    {
     "data": {
      "text/plain": [
       "2732.099617321249"
      ]
     },
     "execution_count": 68,
     "metadata": {},
     "output_type": "execute_result"
    }
   ],
   "source": [
    "idc_def.mean()"
   ]
  },
  {
   "cell_type": "code",
   "execution_count": 69,
   "metadata": {},
   "outputs": [
    {
     "data": {
      "text/plain": [
       "3017.2197880333656"
      ]
     },
     "execution_count": 69,
     "metadata": {},
     "output_type": "execute_result"
    }
   ],
   "source": [
    "idc_nondef.mean()"
   ]
  },
  {
   "cell_type": "code",
   "execution_count": 70,
   "metadata": {},
   "outputs": [
    {
     "data": {
      "text/plain": [
       "count    24825.000000\n",
       "mean      2732.099617\n",
       "std       1516.975313\n",
       "min          0.000000\n",
       "25%       1392.000000\n",
       "50%       2797.000000\n",
       "75%       4119.000000\n",
       "max       6207.000000\n",
       "Name: DAYS_ID_PUBLISH, dtype: float64"
      ]
     },
     "execution_count": 70,
     "metadata": {},
     "output_type": "execute_result"
    }
   ],
   "source": [
    "idc_def.describe()"
   ]
  },
  {
   "cell_type": "code",
   "execution_count": 71,
   "metadata": {},
   "outputs": [
    {
     "data": {
      "text/plain": [
       "count    282686.000000\n",
       "mean       3017.219788\n",
       "std        1506.614090\n",
       "min           0.000000\n",
       "25%        1755.000000\n",
       "50%        3295.000000\n",
       "75%        4313.000000\n",
       "max        7197.000000\n",
       "Name: DAYS_ID_PUBLISH, dtype: float64"
      ]
     },
     "execution_count": 71,
     "metadata": {},
     "output_type": "execute_result"
    }
   ],
   "source": [
    "idc_nondef.describe()"
   ]
  },
  {
   "cell_type": "markdown",
   "metadata": {},
   "source": [
    "The mean of days before the id change/update (id with which the client applied for the loan)for the non-default group is 3017 days whereas for the\n",
    "default group the value is 2732 days. \n",
    "\n",
    "There is also substantial diffrence in days before the id change/update of the two groups in their 50th (median) and 75th percentiles respectively.\n",
    "The 75th percentile of the non-default group is 4313 days whereas for the default group it is 4119 days. Similarly, the\n",
    "median of the non-default group is 3295 days whereas for the default group it is 2797 days. The difference in 50th and 75th percentile between the two groups can be cleary visualized in the above box plot.\n",
    "\n",
    "In conclusion, the findings from the bargraph indicate that on average the days before the id change/update for the people who defaulted \n",
    "is earlier than that of the people who didn't default."
   ]
  },
  {
   "cell_type": "markdown",
   "metadata": {},
   "source": [
    "### Overall Conclusion:"
   ]
  },
  {
   "cell_type": "markdown",
   "metadata": {},
   "source": [
    "<b> The data visualization of total income reveals that income doesn't appear to be a good differentiator\n",
    "of defaults from non-defaults. But the varibles age, employment duration, days since last phone number change and days before the id change/update shows a pattern that the non-defaults on average appear to be elder in age and more stable in their behavior in changing employment, changing phone numbers and changing/updating ids when compared to defaults. </b>`\n",
    "    \n",
    "<b> This relative stability also reflects in their behavior in paying back the loan without defaulting. </b>"
   ]
  }
 ],
 "metadata": {
  "kernelspec": {
   "display_name": "Python 3",
   "language": "python",
   "name": "python3"
  },
  "language_info": {
   "codemirror_mode": {
    "name": "ipython",
    "version": 3
   },
   "file_extension": ".py",
   "mimetype": "text/x-python",
   "name": "python",
   "nbconvert_exporter": "python",
   "pygments_lexer": "ipython3",
   "version": "3.7.1"
  }
 },
 "nbformat": 4,
 "nbformat_minor": 2
}

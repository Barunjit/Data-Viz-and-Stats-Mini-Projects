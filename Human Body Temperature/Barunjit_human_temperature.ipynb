{
 "cells": [
  {
   "cell_type": "markdown",
   "metadata": {},
   "source": [
    "# What is the True Normal Human Body Temperature? \n",
    "\n",
    "#### Background\n",
    "\n",
    "The mean normal body temperature was held to be 37$^{\\circ}$C or 98.6$^{\\circ}$F for more than 120 years since it was first conceptualized and reported by Carl Wunderlich in a famous 1868 book. But, is this value statistically correct?"
   ]
  },
  {
   "cell_type": "markdown",
   "metadata": {},
   "source": [
    "<h3>Exercises</h3>\n",
    "\n",
    "<p>In this exercise, you will analyze a dataset of human body temperatures and employ the concepts of hypothesis testing, confidence intervals, and statistical significance.</p>\n",
    "\n",
    "<p>Answer the following questions <b>in this notebook below and submit to your Github account</b>.</p> \n",
    "\n",
    "<ol>\n",
    "<li>  Is the distribution of body temperatures normal? \n",
    "    <ul>\n",
    "    <li> Although this is not a requirement for the Central Limit Theorem to hold (read the introduction on Wikipedia's page about the CLT carefully: https://en.wikipedia.org/wiki/Central_limit_theorem), it gives us some peace of mind that the population may also be normally distributed if we assume that this sample is representative of the population.\n",
    "    <li> Think about the way you're going to check for the normality of the distribution. Graphical methods are usually used first, but there are also other ways: https://en.wikipedia.org/wiki/Normality_test\n",
    "    </ul>\n",
    "<li>  Is the sample size large? Are the observations independent?\n",
    "    <ul>\n",
    "    <li> Remember that this is a condition for the Central Limit Theorem, and hence the statistical tests we are using, to apply.\n",
    "    </ul>\n",
    "<li>  Is the true population mean really 98.6 degrees F?\n",
    "    <ul>\n",
    "    <li> First, try a bootstrap hypothesis test.\n",
    "    <li> Now, let's try frequentist statistical testing. Would you use a one-sample or two-sample test? Why?\n",
    "    <li> In this situation, is it appropriate to use the $t$ or $z$ statistic? \n",
    "    <li> Now try using the other test. How is the result be different? Why?\n",
    "    </ul>\n",
    "<li>  Draw a small sample of size 10 from the data and repeat both frequentist tests. \n",
    "    <ul>\n",
    "    <li> Which one is the correct one to use? \n",
    "    <li> What do you notice? What does this tell you about the difference in application of the $t$ and $z$ statistic?\n",
    "    </ul>\n",
    "<li>  At what temperature should we consider someone's temperature to be \"abnormal\"?\n",
    "    <ul>\n",
    "    <li> As in the previous example, try calculating everything using the boostrap approach, as well as the frequentist approach.\n",
    "    <li> Start by computing the margin of error and confidence interval. When calculating the confidence interval, keep in mind that you should use the appropriate formula for one draw, and not N draws.\n",
    "    </ul>\n",
    "<li>  Is there a significant difference between males and females in normal temperature?\n",
    "    <ul>\n",
    "    <li> What testing approach did you use and why?\n",
    "    <li> Write a story with your conclusion in the context of the original problem.\n",
    "    </ul>\n",
    "</ol>\n",
    "\n",
    "You can include written notes in notebook cells using Markdown: \n",
    "   - In the control panel at the top, choose Cell > Cell Type > Markdown\n",
    "   - Markdown syntax: http://nestacms.com/docs/creating-content/markdown-cheat-sheet\n",
    "\n",
    "#### Resources\n",
    "\n",
    "+ Information and data sources: http://www.amstat.org/publications/jse/datasets/normtemp.txt, http://www.amstat.org/publications/jse/jse_data_archive.htm\n",
    "+ Markdown syntax: http://nestacms.com/docs/creating-content/markdown-cheat-sheet\n",
    "\n",
    "****"
   ]
  },
  {
   "cell_type": "markdown",
   "metadata": {},
   "source": [
    "## 1. Is the distribution of body temperatures normal? "
   ]
  },
  {
   "cell_type": "markdown",
   "metadata": {},
   "source": [
    "1st Approach: Visual\n",
    "\n",
    "Step1 : Plotted a cdf of a theoretically normally distributed dataset with the sample mean and variance and visually compared it against the cdf of sample data.\n",
    "\n",
    "Step2: Also plotted a seaborn distplot for the theorotical and sample data to see the visual difference between the respective distributions."
   ]
  },
  {
   "cell_type": "code",
   "execution_count": 25,
   "metadata": {},
   "outputs": [],
   "source": [
    "import pandas as pd\n",
    "import numpy as np\n",
    "import warnings\n",
    "\n",
    "df = pd.read_csv('data/human_body_temperature.csv')"
   ]
  },
  {
   "cell_type": "code",
   "execution_count": 3,
   "metadata": {},
   "outputs": [
    {
     "data": {
      "text/html": [
       "<div>\n",
       "<style scoped>\n",
       "    .dataframe tbody tr th:only-of-type {\n",
       "        vertical-align: middle;\n",
       "    }\n",
       "\n",
       "    .dataframe tbody tr th {\n",
       "        vertical-align: top;\n",
       "    }\n",
       "\n",
       "    .dataframe thead th {\n",
       "        text-align: right;\n",
       "    }\n",
       "</style>\n",
       "<table border=\"1\" class=\"dataframe\">\n",
       "  <thead>\n",
       "    <tr style=\"text-align: right;\">\n",
       "      <th></th>\n",
       "      <th>temperature</th>\n",
       "      <th>gender</th>\n",
       "      <th>heart_rate</th>\n",
       "    </tr>\n",
       "  </thead>\n",
       "  <tbody>\n",
       "    <tr>\n",
       "      <td>0</td>\n",
       "      <td>99.3</td>\n",
       "      <td>F</td>\n",
       "      <td>68.0</td>\n",
       "    </tr>\n",
       "    <tr>\n",
       "      <td>1</td>\n",
       "      <td>98.4</td>\n",
       "      <td>F</td>\n",
       "      <td>81.0</td>\n",
       "    </tr>\n",
       "    <tr>\n",
       "      <td>2</td>\n",
       "      <td>97.8</td>\n",
       "      <td>M</td>\n",
       "      <td>73.0</td>\n",
       "    </tr>\n",
       "    <tr>\n",
       "      <td>3</td>\n",
       "      <td>99.2</td>\n",
       "      <td>F</td>\n",
       "      <td>66.0</td>\n",
       "    </tr>\n",
       "    <tr>\n",
       "      <td>4</td>\n",
       "      <td>98.0</td>\n",
       "      <td>F</td>\n",
       "      <td>73.0</td>\n",
       "    </tr>\n",
       "  </tbody>\n",
       "</table>\n",
       "</div>"
      ],
      "text/plain": [
       "   temperature gender  heart_rate\n",
       "0         99.3      F        68.0\n",
       "1         98.4      F        81.0\n",
       "2         97.8      M        73.0\n",
       "3         99.2      F        66.0\n",
       "4         98.0      F        73.0"
      ]
     },
     "execution_count": 3,
     "metadata": {},
     "output_type": "execute_result"
    }
   ],
   "source": [
    "df.head()"
   ]
  },
  {
   "cell_type": "code",
   "execution_count": 11,
   "metadata": {},
   "outputs": [],
   "source": [
    "# The cdf function \n",
    "import numpy as np\n",
    "def ecdf(data):\n",
    "    y = np.arange(1,len(data)+1)/len(data)\n",
    "    x = np.sort(data)\n",
    "    return x,y"
   ]
  },
  {
   "cell_type": "code",
   "execution_count": null,
   "metadata": {},
   "outputs": [],
   "source": [
    "import numpy as np\n",
    "temp_theor = np.random.normal(df['temperature'].mean(), df['temperature'].var(), len(df['temperature']))"
   ]
  },
  {
   "cell_type": "code",
   "execution_count": 22,
   "metadata": {},
   "outputs": [
    {
     "data": {
      "image/png": "[encoded data removed]",
      "text/plain": [
       "<Figure size 576x360 with 1 Axes>"
      ]
     },
     "metadata": {
      "needs_background": "light"
     },
     "output_type": "display_data"
    }
   ],
   "source": [
    "# cdf plot\n",
    "x,y = ecdf(df['temperature'])\n",
    "x_theor, y_theor = ecdf(temp_theor)\n",
    "plt.figure(figsize = (8,5))\n",
    "plt.plot(x,y, marker = '.', color = 'red', linestyle = 'none', label = \"normal cdf\")\n",
    "plt.plot(x_theor,y_theor, marker = '.', color = 'green', linestyle = 'none',label = \"theorotical cdf\")\n",
    "plt.legend()\n",
    "plt.xlabel('temperature')\n",
    "plt.ylabel('cdf')\n",
    "plt.title('temperature cdf plot')\n",
    "plt.show()"
   ]
  },
  {
   "cell_type": "markdown",
   "metadata": {},
   "source": [
    "Finding : The sample cdf doesn't look exactly normal , but to conclusively say this we need \n",
    "to investigate more."
   ]
  },
  {
   "cell_type": "code",
   "execution_count": 29,
   "metadata": {},
   "outputs": [
    {
     "data": {
      "image/png": "[encoded data removed]",
      "text/plain": [
       "<Figure size 432x288 with 1 Axes>"
      ]
     },
     "metadata": {},
     "output_type": "display_data"
    }
   ],
   "source": [
    "import matplotlib.pyplot as plt\n",
    "import seaborn as sns\n",
    "sns.set()\n",
    "plt.clf()\n",
    "sns.distplot(df['temperature'], color = 'green')\n",
    "plt.hist(temp_theor, bins = 12, color = 'red', density = True, alpha = 0.5)\n",
    "warnings.filterwarnings(\"ignore\")"
   ]
  },
  {
   "cell_type": "markdown",
   "metadata": {},
   "source": [
    "Finding : The sample cdf doesn't look exactly normal. The distplot also confirms the same \n",
    "but to rule out this hypothesis conclusively we need to investigate more."
   ]
  },
  {
   "cell_type": "markdown",
   "metadata": {},
   "source": [
    "2nd Approach : Statistical Tests\n",
    "\n",
    "In this approach two statistical tests Shapiro-Wilks test and D’Agostino’s K^2 Test were run on the sample data\n",
    "to statistically conclude the adherence to the normality distribution"
   ]
  },
  {
   "cell_type": "code",
   "execution_count": 42,
   "metadata": {},
   "outputs": [
    {
     "name": "stdout",
     "output_type": "stream",
     "text": [
      "shapiro stat value: 0.99, p-value:0.2332\n",
      "k2 stat value: 2.70, p-value:0.2587\n"
     ]
    }
   ],
   "source": [
    "from scipy.stats import shapiro\n",
    "from scipy.stats import normaltest\n",
    "\n",
    "data = df['temperature']\n",
    "stat_shapiro, p_shapiro = shapiro(data)\n",
    "\n",
    "print('shapiro stat value: {:0.2f}, p-value:{:0.4f}'.format(stat_shapiro, p_shapiro))\n",
    "\n",
    "stat_k2, p_k2 = normaltest(data)\n",
    "\n",
    "print('k2 stat value: {:0.2f}, p-value:{:0.4f}'.format(stat_k2, p_k2))"
   ]
  },
  {
   "cell_type": "code",
   "execution_count": null,
   "metadata": {},
   "outputs": [],
   "source": [
    "Finding : The p-values of both the statistical tests were way more that .05 and hence at a \n",
    "significance level of 5% we can't reject the null hypothesis that the data is normal"
   ]
  },
  {
   "cell_type": "markdown",
   "metadata": {},
   "source": [
    "### Q1: Is the distribution of body temperatures normal?\n",
    "\n",
    "<b> As per our above findings I will conclude that the distribution of body temperatures is normal. </b>"
   ]
  },
  {
   "cell_type": "markdown",
   "metadata": {},
   "source": [
    "### Q2 : Is the sample size large? Are the observations independent?\n",
    "\n",
    "<b> This question lacks the context and more context is needed to answer whether the sample is large in a particular context. We will need more information about the way the experiment was conducted to conclude whether the observations are independent. </b>"
   ]
  },
  {
   "cell_type": "markdown",
   "metadata": {},
   "source": [
    "### Q3: Is the true population mean really 98.6 degrees F?"
   ]
  },
  {
   "cell_type": "markdown",
   "metadata": {},
   "source": [
    "<b> Step 1 : As the first approach I have tried a bootstrap approach where there is no assumption related to the \n",
    "    underlying distribution of the data. </b>"
   ]
  },
  {
   "cell_type": "markdown",
   "metadata": {},
   "source": [
    "## bootstrap method : one sample"
   ]
  },
  {
   "cell_type": "code",
   "execution_count": 51,
   "metadata": {},
   "outputs": [],
   "source": [
    "#bootstrap hypothesis test\n",
    "\n",
    "# Generate data samples with replacement\n",
    "def bootstrap(data, func):\n",
    "    bs_samples = np.random.choice(data, len(data))\n",
    "    return func(bs_samples)\n",
    "\n",
    "\n",
    "# Create an array of bootstraped sample of size n\n",
    "def draw_bootstrap_samples(data, func, size = 1):\n",
    "    \n",
    "    bs_replicates = np.empty(size)\n",
    "    \n",
    "    # Generate Replicates\n",
    "    for i in range(size):\n",
    "        bs_replicates[i] = bootstrap(data,func)\n",
    "    return bs_replicates"
   ]
  },
  {
   "cell_type": "code",
   "execution_count": 52,
   "metadata": {},
   "outputs": [],
   "source": [
    "# Shift the mean of the sample data to make its mean as the expected mean without changing its variance\n",
    "expected_mean = 98.6\n",
    "temp_shifted = np.array(df['temperature'] - np.mean(df['temperature']) + expected_mean)"
   ]
  },
  {
   "cell_type": "code",
   "execution_count": null,
   "metadata": {},
   "outputs": [],
   "source": [
    "The null hypothesis we are testing here is:\n",
    "\n",
    "H0 : The true population mean = 98.6\n",
    "H1 : The true population mean != 98.6"
   ]
  },
  {
   "cell_type": "code",
   "execution_count": 57,
   "metadata": {},
   "outputs": [],
   "source": [
    "# Draw 10000 bootstraped sample \n",
    "temp_bs_replicates = draw_bootstrap_samples(temp_shifted, np.mean, 10000)"
   ]
  },
  {
   "cell_type": "code",
   "execution_count": 58,
   "metadata": {},
   "outputs": [
    {
     "data": {
      "text/plain": [
       "array([98.59923077, 98.57076923, 98.63923077, ..., 98.58307692,\n",
       "       98.62846154, 98.37307692])"
      ]
     },
     "execution_count": 58,
     "metadata": {},
     "output_type": "execute_result"
    }
   ],
   "source": [
    "temp_bs_replicates"
   ]
  },
  {
   "cell_type": "code",
   "execution_count": 63,
   "metadata": {},
   "outputs": [
    {
     "data": {
      "text/plain": [
       "<matplotlib.axes._subplots.AxesSubplot at 0x1ea73fef6a0>"
      ]
     },
     "execution_count": 63,
     "metadata": {},
     "output_type": "execute_result"
    },
    {
     "data": {
      "image/png": "[encoded data removed]",
      "text/plain": [
       "<Figure size 432x288 with 1 Axes>"
      ]
     },
     "metadata": {},
     "output_type": "display_data"
    }
   ],
   "source": [
    "# draw a distplot to visually check the distribution of means \n",
    "sns.distplot(temp_bs_replicates, color = 'blue')"
   ]
  },
  {
   "cell_type": "code",
   "execution_count": 64,
   "metadata": {},
   "outputs": [
    {
     "data": {
      "text/plain": [
       "98.24923076923078"
      ]
     },
     "execution_count": 64,
     "metadata": {},
     "output_type": "execute_result"
    }
   ],
   "source": [
    "df['temperature'].mean()"
   ]
  },
  {
   "cell_type": "code",
   "execution_count": 71,
   "metadata": {},
   "outputs": [
    {
     "name": "stdout",
     "output_type": "stream",
     "text": [
      "0.000000000000000\n"
     ]
    }
   ],
   "source": [
    "# Check the p-value - percentage of records that are less than the observed mean\n",
    "print('%.15f'%(np.sum(temp_bs_replicates <= df['temperature'].mean())/len(temp_bs_replicates)))"
   ]
  },
  {
   "cell_type": "markdown",
   "metadata": {},
   "source": [
    "<b> Conclusion : The p-value of bootstrap hypotheis test says that the null hypotheis that \"the population mean is 98.6 degrees F\" can be rejected. </b>"
   ]
  },
  {
   "cell_type": "markdown",
   "metadata": {},
   "source": [
    "Step 2 : As the second approach, I have tried a frequentist statistical testing approach where there is \n",
    "the normality assumption related to the underlying distribution of the data. "
   ]
  },
  {
   "cell_type": "markdown",
   "metadata": {},
   "source": [
    "## In this situation, is it appropriate to use the 𝑡 or 𝑧 statistic? \n",
    "\n",
    "In this situation,we can use both t or z statistics as the sample size(130) is large enough(> 30). \n",
    "As we know, as the sample size increases the t-distribution and hence the t-test value closely matches the z-distribution \n",
    "and hence the z-test values. \n",
    "\n",
    "After running the t-test and z-test below we can reconfirm the above fact as both tests give the similar results.\n",
    "\n",
    "The p-value(< 0.05) of both the tests confirm that the null hypothesis H0: The population mean of temperature\n",
    "is 98.6 degrees F shall be rejected at a significance level of 5%.\n"
   ]
  },
  {
   "cell_type": "markdown",
   "metadata": {},
   "source": [
    "## One sample t-test and z-test"
   ]
  },
  {
   "cell_type": "code",
   "execution_count": 73,
   "metadata": {},
   "outputs": [
    {
     "name": "stdout",
     "output_type": "stream",
     "text": [
      "t-statistic: -5.4548232923645195\n",
      "p value = 2.4106320415561276e-07\n"
     ]
    }
   ],
   "source": [
    "from scipy.stats import ttest_1samp\n",
    "t_stat, p_val_t = ttest_1samp(df['temperature'], 98.6)\n",
    "\n",
    "print('t-statistic:',t_stat)\n",
    "print('p value =',p_val_t)"
   ]
  },
  {
   "cell_type": "code",
   "execution_count": 72,
   "metadata": {},
   "outputs": [
    {
     "name": "stdout",
     "output_type": "stream",
     "text": [
      "z-statistic: -5.4548232923645195\n",
      "p value = 4.9021570141012155e-08\n"
     ]
    }
   ],
   "source": [
    "from statsmodels.stats.weightstats import ztest\n",
    "z_stat, p_val_z = ztest(x1= df['temperature'], value = 98.6)\n",
    "\n",
    "print('z-statistic:',z_stat)\n",
    "print('p value =',p_val_z)"
   ]
  },
  {
   "cell_type": "markdown",
   "metadata": {},
   "source": [
    "## Draw a small sample of size 10 from the data and repeat both frequentist tests. "
   ]
  },
  {
   "cell_type": "code",
   "execution_count": 74,
   "metadata": {},
   "outputs": [],
   "source": [
    "np.random.seed(42)\n",
    "temp_sample_10 = np.random.choice(df['temperature'], size = 10)"
   ]
  },
  {
   "cell_type": "code",
   "execution_count": 75,
   "metadata": {},
   "outputs": [
    {
     "data": {
      "text/plain": [
       "array([98. , 98.8, 97.8, 97. , 97.7, 98.3, 98. , 97.9, 99. , 98. ])"
      ]
     },
     "execution_count": 75,
     "metadata": {},
     "output_type": "execute_result"
    }
   ],
   "source": [
    "temp_sample_10"
   ]
  },
  {
   "cell_type": "code",
   "execution_count": 77,
   "metadata": {},
   "outputs": [
    {
     "name": "stdout",
     "output_type": "stream",
     "text": [
      "t-statistic: -3.0934479202257976\n",
      "p value = 0.012857704604809363\n"
     ]
    }
   ],
   "source": [
    "t_stat, p_val_t = ttest_1samp(temp_sample_10, 98.6)\n",
    "\n",
    "print('t-statistic:',t_stat)\n",
    "print('p value =',p_val_t)"
   ]
  },
  {
   "cell_type": "code",
   "execution_count": 76,
   "metadata": {},
   "outputs": [
    {
     "name": "stdout",
     "output_type": "stream",
     "text": [
      "z-statistic: -3.0934479202257976\n",
      "p value = 0.0019784527476214603\n"
     ]
    }
   ],
   "source": [
    "from statsmodels.stats.weightstats import ztest\n",
    "z_stat, p_val_z = ztest(x1= temp_sample_10, value = 98.6)\n",
    "\n",
    "print('z-statistic:',z_stat)\n",
    "print('p value =',p_val_z)"
   ]
  },
  {
   "cell_type": "markdown",
   "metadata": {},
   "source": [
    "<b> Which one is the correct one to use? </b>\n",
    "\n",
    "In this case a t-test is more appropriate as the sample size(10) is small (<30) and t-test is more robust \n",
    "for small samples while testing the population mean.\n",
    "\n",
    "<b> What do you notice? What does this tell you about the difference in application of the $t$ and $z$ statistic? </b>\n",
    "\n",
    "We can notice that as this time the sample size is small, t-test and z-test give contradictiry results. But\n",
    "as in case of small samples a t-test is more credible we will consider the t-test result whose p-value 0.012\n",
    "says that the null hypothesis shall be rejected.\n"
   ]
  },
  {
   "cell_type": "markdown",
   "metadata": {},
   "source": [
    "### At what temperature should we consider someone's temperature to be \"abnormal\"? "
   ]
  },
  {
   "cell_type": "markdown",
   "metadata": {},
   "source": [
    "### Approach 1:\n",
    "Bootstrap Approach\n",
    "\n",
    "Conclusion: The bootstrap approach gives the 95% confidence interval (Normal Temperature) as <b> 98.12 - 98.37 </b>. Therefore as per this approach, if someone's temperature is outside this range then it will be considered abnormal."
   ]
  },
  {
   "cell_type": "code",
   "execution_count": 57,
   "metadata": {},
   "outputs": [],
   "source": [
    "#bootstrap approach\n",
    "temp_replicates_conf = draw_bootstrap_samples(df['temperature'], np.mean, 10000)"
   ]
  },
  {
   "cell_type": "code",
   "execution_count": 58,
   "metadata": {},
   "outputs": [
    {
     "data": {
      "text/plain": [
       "array([98.12384615, 98.37307692])"
      ]
     },
     "execution_count": 58,
     "metadata": {},
     "output_type": "execute_result"
    }
   ],
   "source": [
    "np.percentile(temp_replicates_conf, [2.5,97.5])"
   ]
  },
  {
   "cell_type": "markdown",
   "metadata": {},
   "source": [
    "### Approach 2:\n",
    "Frequentist Approach\n",
    "\n",
    "Conclusion : The frequetist approach gives the 95% confidence interval as [96.812,99.68]. Therefore as per this\n",
    "approach if someone's temperature is outside this range then it will be considered abnormal."
   ]
  },
  {
   "cell_type": "code",
   "execution_count": 83,
   "metadata": {},
   "outputs": [
    {
     "name": "stdout",
     "output_type": "stream",
     "text": [
      "98.24923076923078\n",
      "0.7331831580389454\n"
     ]
    },
    {
     "data": {
      "text/plain": [
       "(96.81221818540311, 99.68624335305844)"
      ]
     },
     "execution_count": 83,
     "metadata": {},
     "output_type": "execute_result"
    }
   ],
   "source": [
    "#confidence interval using frequentist approach\n",
    "import scipy.stats\n",
    "mu = df['temperature'].mean()\n",
    "print(mu)\n",
    "sigma = df['temperature'].std()\n",
    "print(sigma)\n",
    "scipy.stats.norm.interval(.95, loc= mu, scale= sigma)"
   ]
  },
  {
   "cell_type": "markdown",
   "metadata": {},
   "source": [
    "## Is there a significant difference between males and females in normal temperature? "
   ]
  },
  {
   "cell_type": "markdown",
   "metadata": {},
   "source": [
    "<b> What testing approach did you use and why? </b>\n",
    "\n",
    "I chose a t-test to be the right approach as neither the population mean nor the populationvariance of the   two groups is known to us.\n",
    "\n",
    "The t-test result says that the null hypotheis H0: The mean of temperature of males and females are same shall be\n",
    "rejected. In other words, we can say that there is statistically a significant difference between males and females in normal temperature.\n"
   ]
  },
  {
   "cell_type": "code",
   "execution_count": 65,
   "metadata": {},
   "outputs": [],
   "source": [
    "male_temps = df[df['gender'] == 'M'].temperature\n",
    "female_temps = df[df['gender'] == 'F'].temperature"
   ]
  },
  {
   "cell_type": "code",
   "execution_count": 97,
   "metadata": {},
   "outputs": [
    {
     "data": {
      "text/plain": [
       "65"
      ]
     },
     "execution_count": 97,
     "metadata": {},
     "output_type": "execute_result"
    }
   ],
   "source": [
    "len(male_temps)"
   ]
  },
  {
   "cell_type": "code",
   "execution_count": 71,
   "metadata": {},
   "outputs": [
    {
     "name": "stdout",
     "output_type": "stream",
     "text": [
      "shapiro stat value for males: 0.9894  p-value:0.8545\n",
      "k2 stat value for males: 0.8912  p-value:0.6404\n",
      "shapiro stat value for females: 0.9680  p-value:0.0902\n",
      "k2 stat value for females: 4.7354  p-value:0.0937\n"
     ]
    }
   ],
   "source": [
    "# Although from the central limit theorem we can assume that the means of the two groups will be normally \n",
    "# distributed and hence we can conduct our t-test, it gives peace of mind to know that our data is normally distributed\n",
    "\n",
    "from scipy.stats import shapiro\n",
    "from scipy.stats import normaltest\n",
    "from scipy.stats import shapiro\n",
    "\n",
    "data = male_temps\n",
    "\n",
    "stat_shapiro, p_shapiro = shapiro(data)\n",
    "\n",
    "print('shapiro stat value for males: {:0.4f}  p-value:{:0.4f}'.format(stat_shapiro, p_shapiro))\n",
    " \n",
    "stat_k2, p_k2 = normaltest(data)\n",
    "\n",
    "print('k2 stat value for males: {:0.4f}  p-value:{:0.4f}'.format(stat_k2, p_k2))\n",
    "\n",
    "data = female_temps\n",
    "\n",
    "stat_shapiro, p_shapiro = shapiro(data)\n",
    "\n",
    "print('shapiro stat value for females: {:0.4f}  p-value:{:0.4f}'.format(stat_shapiro, p_shapiro))\n",
    "\n",
    "stat_k2, p_k2 = normaltest(data)\n",
    "\n",
    "print('k2 stat value for females: {:0.4f}  p-value:{:0.4f}'.format(stat_k2, p_k2))"
   ]
  },
  {
   "cell_type": "code",
   "execution_count": 90,
   "metadata": {},
   "outputs": [
    {
     "name": "stdout",
     "output_type": "stream",
     "text": [
      "98.1046153846154\n"
     ]
    },
    {
     "data": {
      "text/plain": [
       "98.39384615384613"
      ]
     },
     "execution_count": 90,
     "metadata": {},
     "output_type": "execute_result"
    }
   ],
   "source": [
    "print(male_temps.mean())\n",
    "print(female_temps.mean())"
   ]
  },
  {
   "cell_type": "code",
   "execution_count": 94,
   "metadata": {},
   "outputs": [
    {
     "name": "stdout",
     "output_type": "stream",
     "text": [
      "The observed difference between the mean of female body temperatures and male body temperaures is 0.29\n"
     ]
    }
   ],
   "source": [
    "print ('The observed difference between the mean of female body temperatures and male body\\\n",
    " temperaures is {:0.2f}'.format(female_temps.mean() - male_temps.mean()))"
   ]
  },
  {
   "cell_type": "code",
   "execution_count": 88,
   "metadata": {},
   "outputs": [
    {
     "name": "stdout",
     "output_type": "stream",
     "text": [
      "t-statistic: -2.2854345381656103\n",
      "p value = 0.02393188312239561\n"
     ]
    }
   ],
   "source": [
    "from scipy.stats import ttest_ind\n",
    "t_stat, p_val_t = ttest_ind(male_temps, female_temps)\n",
    "\n",
    "print('t-statistic:',t_stat)\n",
    "print('p value =',p_val_t)"
   ]
  },
  {
   "cell_type": "code",
   "execution_count": 67,
   "metadata": {},
   "outputs": [
    {
     "name": "stdout",
     "output_type": "stream",
     "text": [
      "t-statistic: 2.2854345381656103\n",
      "p value = 0.02393188312239561\n"
     ]
    }
   ],
   "source": [
    "from scipy.stats import ttest_ind\n",
    "t_stat, p_val_t = ttest_ind(female_temps, male_temps)\n",
    "\n",
    "print('t-statistic:',t_stat)\n",
    "print('p value =',p_val_t)"
   ]
  },
  {
   "cell_type": "markdown",
   "metadata": {},
   "source": [
    "### The Data Set Story\n",
    "\n",
    "+ This data set contained 130 records of randomly selected human body temperatures. The data conradicted the long held belief that the average human body temperature is 98.6 degree F. \n",
    "\n",
    "+ As per this data set the normal human body temperature was found to be between [96.81,98.37] with 95% confidence.\n",
    "\n",
    "+ When invetigated further, it is also found that there is a statistically significant difference between the mean female body temperature and mean male body temperature with female mean body temperature being higher."
   ]
  }
 ],
 "metadata": {
  "kernelspec": {
   "display_name": "Python 3",
   "language": "python",
   "name": "python3"
  },
  "language_info": {
   "codemirror_mode": {
    "name": "ipython",
    "version": 3
   },
   "file_extension": ".py",
   "mimetype": "text/x-python",
   "name": "python",
   "nbconvert_exporter": "python",
   "pygments_lexer": "ipython3",
   "version": "3.7.1"
  }
 },
 "nbformat": 4,
 "nbformat_minor": 1
}
